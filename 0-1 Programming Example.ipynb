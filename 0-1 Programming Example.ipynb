{
 "cells": [
  {
   "cell_type": "markdown",
   "metadata": {},
   "source": [
    "# General 0/1 Programming Example (From Glover's Tutorial Paper)\n",
    "Problem: $max$ $6x_1+4x_2+8x_3+5x_45x_5 \\quad s.t. \\quad \n",
    "\\begin{cases}\n",
    "2x_1+2x_2+4x_3+3x_4+2x_5\\leq7\\\\\n",
    "x_1+2x_2+2x_3+x_4+2x_5=4\\\\\n",
    "3x_1+3x_2+2x_3+4x_4+4x_5\\geq5\n",
    "\\end{cases}$\n",
    "\n",
    "Solved using CQM"
   ]
  },
  {
   "cell_type": "code",
   "execution_count": 3,
   "metadata": {},
   "outputs": [],
   "source": [
    "# import necessary stuff\n",
    "import time\n",
    "import dimod\n",
    "\n",
    "import numpy as np\n",
    "\n",
    "from dwave.system import LeapHybridCQMSampler"
   ]
  },
  {
   "cell_type": "markdown",
   "metadata": {},
   "source": [
    "## Build CQM"
   ]
  },
  {
   "cell_type": "code",
   "execution_count": 41,
   "metadata": {},
   "outputs": [
    {
     "name": "stdout",
     "output_type": "stream",
     "text": [
      "objective    : -6*x1 - 4*x2 - 8*x3 - 5*x4 - 5*x5\n",
      "constraint 1 : 2*x1 + 2*x2 + 4*x3 + 3*x4 + 2*x5 <= 7\n",
      "constraint 2 : x1 + 2*x2 + 2*x3 + x4 + 2*x5 == 4\n",
      "constraint 3 : 3*x1 + 3*x2 + 2*x3 + 4*x4 + 4*x5 >= 5\n"
     ]
    }
   ],
   "source": [
    "# build model\n",
    "cqm = dimod.ConstrainedQuadraticModel()\n",
    "\n",
    "# define variables\n",
    "x = np.array([dimod.Binary(f'x{n}') for n in range(1,6)])\n",
    "\n",
    "# define c-vector (max cx)\n",
    "c = np.array([6,4,8,5,5])\n",
    "\n",
    "# define objective function\n",
    "cqm.set_objective(-1*np.dot(c,x))\n",
    "\n",
    "# define constraint 1\n",
    "a1 = np.array([2,2,4,3,2])\n",
    "cqm.add_constraint(np.dot(a1,x) <= 7, label='constraint 1')\n",
    "\n",
    "# define constraint 2\n",
    "a2 = np.array([1,2,2,1,2])\n",
    "cqm.add_constraint(np.dot(a2,x) == 4, label='constraint 2')\n",
    "\n",
    "# define constraint3\n",
    "a3 = np.array([3,3,2,4,4])\n",
    "cqm.add_constraint(np.dot(a3,x) >= 5, label='constraint 3')\n",
    "\n",
    "print(\"objective   \",\":\", cqm.objective.to_polystring())\n",
    "for i in cqm.constraints:\n",
    "    print(i,\":\",cqm.constraints[i])"
   ]
  },
  {
   "cell_type": "markdown",
   "metadata": {},
   "source": [
    "## Solve on hybrid solver"
   ]
  },
  {
   "cell_type": "code",
   "execution_count": 44,
   "metadata": {},
   "outputs": [
    {
     "name": "stdout",
     "output_type": "stream",
     "text": [
      "Solved in 10.37 seconds\n",
      "\n",
      "No feasible solutions found\n"
     ]
    }
   ],
   "source": [
    "start = time.time()\n",
    "# run hybrid solver\n",
    "sampler = LeapHybridCQMSampler()\n",
    "sampleset = sampler.sample_cqm(cqm, label='CQM General 0/1')\n",
    "feasible_sampleset = sampleset.filter(lambda row: row.is_feasible)\n",
    "elapsed = time.time() - start\n",
    "print(\"Solved in %.2f seconds\" % elapsed)\n",
    "\n",
    "try:\n",
    "    sample = feasible_sampleset.first.sample\n",
    "    solution = feasible_sampleset.first\n",
    "    print(solution3)\n",
    "except:\n",
    "    print(\"\\nNo feasible solutions found\")"
   ]
  },
  {
   "cell_type": "code",
   "execution_count": 73,
   "metadata": {},
   "outputs": [
    {
     "name": "stdout",
     "output_type": "stream",
     "text": [
      "Sample(sample={'x1': 1.0, 'x2': 0.0, 'x3': 0.0, 'x4': 1.0, 'x5': 1.0}, energy=-16.0, num_occurrences=1, is_feasible=True, is_satisfied=array([ True,  True,  True]))\n"
     ]
    }
   ],
   "source": [
    "# print(sampler.min_time_limit(cqm))\n",
    "print(feasible_sampleset.first)"
   ]
  },
  {
   "cell_type": "code",
   "execution_count": null,
   "metadata": {},
   "outputs": [],
   "source": []
  }
 ],
 "metadata": {
  "kernelspec": {
   "display_name": "Python 3",
   "language": "python",
   "name": "python3"
  },
  "language_info": {
   "codemirror_mode": {
    "name": "ipython",
    "version": 3
   },
   "file_extension": ".py",
   "mimetype": "text/x-python",
   "name": "python",
   "nbconvert_exporter": "python",
   "pygments_lexer": "ipython3",
   "version": "3.8.3"
  }
 },
 "nbformat": 4,
 "nbformat_minor": 4
}
