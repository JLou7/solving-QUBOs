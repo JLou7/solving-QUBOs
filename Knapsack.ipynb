{
 "cells": [
  {
   "cell_type": "markdown",
   "metadata": {},
   "source": [
    "# Knapsack Problem\n",
    "Given a set of items with assigned values and weights. Fill a container such that the value in the container is maximized while still being under the weight limit\n",
    "\n",
    "Solved with BQM"
   ]
  },
  {
   "cell_type": "code",
   "execution_count": 4,
   "metadata": {},
   "outputs": [],
   "source": [
    "# import necessary things\n",
    "import time\n",
    "import dimod\n",
    "\n",
    "import numpy as np\n",
    "import numpy.random as random\n",
    "\n",
    "from pyqubo import Binary, Constraint\n",
    "\n",
    "from dwave.system import DWaveSampler, AutoEmbeddingComposite"
   ]
  },
  {
   "cell_type": "markdown",
   "metadata": {},
   "source": [
    "## Generate set of items and weights and set weight limit"
   ]
  },
  {
   "cell_type": "code",
   "execution_count": 54,
   "metadata": {},
   "outputs": [
    {
     "name": "stdout",
     "output_type": "stream",
     "text": [
      "values:  [1 1 2 5 7 6 7 7 6 3 8 5 4 7 5 2 6 1 7 4 3 4 4 4 3 1 4 3 1 4 1 1 8 4 9 8 5\n",
      " 5 1 1 4 4 2 5 6 8 1 4 6 7]\n",
      "weights: [2 5 5 5 6 5 7 4 1 6 9 4 7 3 9 9 6 5 8 9 5 5 3 2 9 8 2 6 9 4 4 6 4 7 9 7 1\n",
      " 9 3 2 2 7 6 6 7 5 5 1 1 8]\n"
     ]
    }
   ],
   "source": [
    "# nummber of items\n",
    "n = 50\n",
    "\n",
    "# weight limit\n",
    "W = 30\n",
    "\n",
    "# generate arrays for values and weights\n",
    "random.seed(50)\n",
    "values = random.randint(1,10,n)\n",
    "weights = random.randint(1,10,n)\n",
    "\n",
    "print('values: ', values)\n",
    "print('weights:', weights)"
   ]
  },
  {
   "cell_type": "markdown",
   "metadata": {},
   "source": [
    "## Build BQM"
   ]
  },
  {
   "cell_type": "code",
   "execution_count": 88,
   "metadata": {},
   "outputs": [],
   "source": [
    "# build bqm\n",
    "P = 10\n",
    "\n",
    "# build variables\n",
    "# binary variable x_i for if item i is packed or not\n",
    "x = [Binary(f'{i}') for i in range(n)]\n",
    "\n",
    "# value objective\n",
    "H = 0\n",
    "for i in range(len(x)):\n",
    "    H -= values[i]*x[i]\n",
    "\n",
    "# slack vars\n",
    "s = [Binary(f's{i}') for i in range(4)]\n",
    "sw = [2**i for i in range(4)]\n",
    "\n",
    "# weight constraint\n",
    "H += P*Constraint((W - np.dot(weights,x) - np.dot(sw,s))**2, label='weight constraint')\n",
    "\n",
    "model = H.compile()\n",
    "Q = model.to_bqm()"
   ]
  },
  {
   "cell_type": "markdown",
   "metadata": {},
   "source": [
    "### Check problem requirements (time, vars, constraints)"
   ]
  },
  {
   "cell_type": "code",
   "execution_count": 89,
   "metadata": {},
   "outputs": [
    {
     "name": "stdout",
     "output_type": "stream",
     "text": [
      "num vars: 54\n"
     ]
    }
   ],
   "source": [
    "sampler = DWaveSampler()\n",
    "print(\"num vars:\",len(Q.variables))"
   ]
  },
  {
   "cell_type": "markdown",
   "metadata": {},
   "source": [
    "## Sample"
   ]
  },
  {
   "cell_type": "code",
   "execution_count": 93,
   "metadata": {},
   "outputs": [
    {
     "name": "stdout",
     "output_type": "stream",
     "text": [
      "Solved in 14.74 seconds\n",
      "{'0': 1, '1': 0, '10': 0, '11': 1, '12': 0, '13': 0, '14': 0, '15': 0, '16': 0, '17': 0, '18': 0, '19': 0, '2': 0, '20': 0, '21': 0, '22': 1, '23': 0, '24': 0, '25': 0, '26': 0, '27': 1, '28': 0, '29': 0, '3': 0, '30': 0, '31': 0, '32': 1, '33': 0, '34': 0, '35': 0, '36': 1, '37': 0, '38': 1, '39': 0, '4': 0, '40': 0, '41': 0, '42': 0, '43': 0, '44': 0, '45': 0, '46': 0, '47': 0, '48': 0, '49': 0, '5': 1, '6': 0, '7': 0, '8': 1, '9': 0, 's0': 1, 's1': 0, 's2': 0, 's3': 0}\n"
     ]
    }
   ],
   "source": [
    "start = time.time()\n",
    "# run QPU solver\n",
    "sampler = AutoEmbeddingComposite(DWaveSampler())\n",
    "response = sampler.sample(Q, num_reads=1000, label='BQM Knapsack')\n",
    "elapsed = time.time() - start\n",
    "print(\"Solved in %.2f seconds\" % elapsed)\n",
    "print(response.first.sample)"
   ]
  },
  {
   "cell_type": "code",
   "execution_count": 94,
   "metadata": {},
   "outputs": [
    {
     "name": "stdout",
     "output_type": "stream",
     "text": [
      "[1. 0. 0. 0. 0. 1. 0. 0. 1. 0. 0. 1. 0. 0. 0. 0. 0. 0. 0. 0. 0. 0. 1. 0.\n",
      " 0. 0. 0. 1. 0. 0. 0. 0. 1. 0. 0. 0. 1. 0. 1. 0. 0. 0. 0. 0. 0. 0. 0. 0.\n",
      " 0. 0.]\n",
      "value: 39.0\n",
      "weight: 29.0\n"
     ]
    }
   ],
   "source": [
    "soln_vals = np.zeros(n)\n",
    "for i in response.first.sample:\n",
    "    try:\n",
    "        soln_vals[int(i)] = response.first.sample[i]\n",
    "    except:\n",
    "        continue\n",
    "print(soln_vals)\n",
    "value = 0\n",
    "weight = 0\n",
    "for i in range(len(x)):\n",
    "    value += soln_vals[i]*values[i]\n",
    "    weight += soln_vals[i]*weights[i]\n",
    "print('value:',value)\n",
    "print('weight:',weight)"
   ]
  },
  {
   "cell_type": "code",
   "execution_count": 95,
   "metadata": {},
   "outputs": [
    {
     "name": "stdout",
     "output_type": "stream",
     "text": [
      "{'weight constraint': (True, 0.0)}\n"
     ]
    }
   ],
   "source": [
    "dec = model.decode_sample(response.first.sample, vartype='BINARY')\n",
    "print(dec.constraints())"
   ]
  },
  {
   "cell_type": "code",
   "execution_count": null,
   "metadata": {},
   "outputs": [],
   "source": []
  }
 ],
 "metadata": {
  "kernelspec": {
   "display_name": "Python 3",
   "language": "python",
   "name": "python3"
  },
  "language_info": {
   "codemirror_mode": {
    "name": "ipython",
    "version": 3
   },
   "file_extension": ".py",
   "mimetype": "text/x-python",
   "name": "python",
   "nbconvert_exporter": "python",
   "pygments_lexer": "ipython3",
   "version": "3.8.3"
  }
 },
 "nbformat": 4,
 "nbformat_minor": 4
}
