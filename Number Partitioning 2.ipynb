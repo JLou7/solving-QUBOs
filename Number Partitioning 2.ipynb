{
 "cells": [
  {
   "cell_type": "markdown",
   "metadata": {},
   "source": [
    "# Number Partitioning 2\n",
    "Solve the number partitioning problem using DWave's QUBO generator\n",
    "\n",
    "Given a set of numbers, partition the set into 2 subsets such that the 2 sums are as close as possible"
   ]
  },
  {
   "cell_type": "code",
   "execution_count": 1,
   "metadata": {},
   "outputs": [],
   "source": [
    "import dimod\n",
    "\n",
    "import pyqubo\n",
    "from pyqubo import Spin, Binary, Constraint\n",
    "\n",
    "from dwave.system.samplers import DWaveSampler\n",
    "from dwave.system.composites import LazyEmbeddingComposite\n",
    "\n",
    "import numpy as np\n",
    "import numpy.random as random\n",
    "\n",
    "import time"
   ]
  },
  {
   "cell_type": "markdown",
   "metadata": {},
   "source": [
    "## Function for solving QUBO\n",
    "Given a hamiltonian $H$ in QUBO form, solve for lowest energy solution"
   ]
  },
  {
   "cell_type": "code",
   "execution_count": 20,
   "metadata": {},
   "outputs": [],
   "source": [
    "def qdict_to_matrix(qubo,qubits):\n",
    "    Q = np.zeros([len(qubits),len(qubits)])\n",
    "    for (i,j) in qubo:\n",
    "        x = int(i[1:i.find('.')])\n",
    "        y = int(j[1:i.find('.')])\n",
    "        Q[x,y] = qubo[(i,j)]\n",
    "    return Q\n",
    "\n",
    "def solve_qubo(H,\n",
    "               qubits,\n",
    "               sampler=\"CPU\", # CPU or QPU\n",
    "               k=10,\n",
    "               chain_strength=None):\n",
    "    \"\"\"\n",
    "    Given a hamiltonian, solves the quadratic unconstrained binary\n",
    "    optimization (QUBO) problem given by\n",
    "    \n",
    "        minimize sum(x[i] * Q[i,j] * x[j]\n",
    "                     for i in range(N),\n",
    "                     for j in range(i+1, N))\n",
    "    \n",
    "    Uses compile() to convert the hamiltonian into matrix (dictionary) form.\n",
    "    dimod.SimulatedAnnealingSampler is then used, which solves the problem k times through simulated\n",
    "    annealing (on a regular CPU). This method returns the best solution found.\n",
    "    \"\"\"\n",
    "    assert sampler in [\"CPU\", \"QPU\"]\n",
    "    \n",
    "    model = H.compile()\n",
    "    qubo, offset = model.to_qubo()\n",
    "    bqm = dimod.BinaryQuadraticModel.from_qubo(qubo,offset=offset)\n",
    "    \n",
    "#     Q = qdict_to_matrix(qubo,qubits)\n",
    "#     n = Q.shape[0]\n",
    "#     nz = len(Q[Q!=0])\n",
    "    n = len(qubits)\n",
    "    nz = 900\n",
    "    print(\"Solving QUBO problem (%d vars, %d nz) on %s...\" % (n, nz, sampler))\n",
    "    \n",
    "    start = time.time()\n",
    "    \n",
    "    if sampler == \"CPU\":\n",
    "        sampler = dimod.SimulatedAnnealingSampler()\n",
    "        response = sampler.sample(bqm, num_reads=k)\n",
    "    else:\n",
    "        if chain_strength is None:\n",
    "            chain_strength = int(10 * max(qubo.values()))\n",
    "        sampler = LazyEmbeddingComposite(DWaveSampler(solver=\"Advantage_system6.1\"))\n",
    "        response = sampler.sample(bqm, num_reads=k, chain_strength=chain_strength)\n",
    "        \n",
    "    elapsed = time.time() - start\n",
    "    \n",
    "    print(\"Solved in %.2f seconds\" % elapsed)\n",
    "    solution = min(response.data([\"sample\", \"energy\"]), key=lambda s: s.energy)\n",
    "    return solution, response"
   ]
  },
  {
   "cell_type": "markdown",
   "metadata": {},
   "source": [
    "## Create set of integers"
   ]
  },
  {
   "cell_type": "code",
   "execution_count": 21,
   "metadata": {},
   "outputs": [
    {
     "name": "stdout",
     "output_type": "stream",
     "text": [
      "[ 6  3 10  7  4  6  9  2  6 10 10  7  4  3  7  7  2  5  4  1  7  5  1  4\n",
      "  0  9  5  8  0 10 10  9  2  6  3  8  2  4  2  6  4  8  6  1  3  8  1  9\n",
      "  8  9  4  1  3  6  7  2  0  3  1  7  3  1  5  5  9  3  5  1  9  1  9  3\n",
      "  7  6  8  7  4  1  4  7  9  8  8  0  8  6  8  7  0  7  7 10  2  0  7  2\n",
      "  2  0 10  4]\n"
     ]
    }
   ],
   "source": [
    "n = 100\n",
    "random.seed(42)\n",
    "S = random.randint(11,size=(n))\n",
    "print(S)"
   ]
  },
  {
   "cell_type": "markdown",
   "metadata": {},
   "source": [
    "## Define hamiltonian\n",
    "We want to minimize the difference between the sum of each set\n",
    "\n",
    "diff$^2=(c-2\\sum_js_jx_j)^2$\n",
    "\n",
    "Where $c$ is the sum of all the elements in the set $S$"
   ]
  },
  {
   "cell_type": "code",
   "execution_count": 22,
   "metadata": {},
   "outputs": [],
   "source": [
    "# define spins/binary vars\n",
    "spins = []\n",
    "for i in range(len(S)):\n",
    "    spins.append(Binary(f'x{i}.{S[i]}'))\n",
    "\n",
    "# sum set S\n",
    "c = np.sum(S)\n",
    "\n",
    "# define hamiltonian\n",
    "sumSx = 0\n",
    "for i in range(len(spins)):\n",
    "    sumSx += spins[i]*S[i]\n",
    "    \n",
    "H = (c-2*sumSx)**2"
   ]
  },
  {
   "cell_type": "markdown",
   "metadata": {},
   "source": [
    "## Solve on CPU"
   ]
  },
  {
   "cell_type": "code",
   "execution_count": 23,
   "metadata": {},
   "outputs": [
    {
     "name": "stdout",
     "output_type": "stream",
     "text": [
      "Solving QUBO problem (100 vars, 900 nz) on CPU...\n",
      "Solved in 54.78 seconds\n",
      "  x0.6 x1.3 x10.10 x11.7 x12.4 x13.3 x14.7 x15.7 x16.2 ... x99.4 energy num_oc.\n",
      "0    1    1      1     1     0     0     0     0     0 ...     1    0.0       1\n",
      "1    1    1      0     1     0     1     0     0     0 ...     0    0.0       1\n",
      "2    1    1      0     0     1     1     0     1     1 ...     0    0.0       1\n",
      "3    0    1      1     1     0     0     1     0     0 ...     0    0.0       1\n",
      "4    0    0      1     0     1     0     1     0     0 ...     0    0.0       1\n",
      "5    0    0      1     1     0     0     1     0     1 ...     1    0.0       1\n",
      "6    0    0      1     0     1     0     0     1     1 ...     0    0.0       1\n",
      "7    0    0      1     0     0     1     0     0     0 ...     1    0.0       1\n",
      "8    1    0      1     1     1     1     1     0     1 ...     1    0.0       1\n",
      "9    0    0      0     1     1     0     1     1     1 ...     1    0.0       1\n",
      "['BINARY', 10 rows, 10 samples, 93 variables]\n",
      "\n",
      "S: [ 6  3 10  7  4  6  9  2  6 10 10  7  4  3  7  7  2  5  4  1  7  5  1  4\n",
      "  0  9  5  8  0 10 10  9  2  6  3  8  2  4  2  6  4  8  6  1  3  8  1  9\n",
      "  8  9  4  1  3  6  7  2  0  3  1  7  3  1  5  5  9  3  5  1  9  1  9  3\n",
      "  7  6  8  7  4  1  4  7  9  8  8  0  8  6  8  7  0  7  7 10  2  0  7  2\n",
      "  2  0 10  4]\n",
      "S0: [6, 3, 10, 7, 5, 4, 5, 5, 2, 6, 8, 2, 6, 4, 6, 1, 8, 1, 9, 9, 4, 1, 2, 7, 3, 5, 5, 1, 2, 7, 1, 4, 7, 6, 9, 8, 8, 8, 7, 7, 10, 10, 2, 7, 2, 10, 4]\n",
      "S1: [4, 3, 7, 7, 2, 1, 10, 7, 1, 4, 9, 8, 10, 7, 10, 9, 3, 4, 2, 4, 8, 3, 8, 6, 3, 6, 7, 3, 1, 9, 1, 5, 9, 3, 1, 9, 9, 3, 6, 8, 7, 4, 8, 6, 7, 2]\n",
      "\n",
      "sum(S0)      254\n",
      "sum(S1)      254\n"
     ]
    }
   ],
   "source": [
    "k=10\n",
    "# solve problem\n",
    "solution1, response1 = solve_qubo(H,spins,\"CPU\",k)\n",
    "\n",
    "# display result\n",
    "print(response1)\n",
    "# for smple, energy, num_occ in response.data(['sample','energy','num_occurrences']):\n",
    "#     print(num_occ)\n",
    "\n",
    "# display sums\n",
    "print(\"\")\n",
    "S0 = [int(j[j.find('.')+1:]) for (j, xi) in solution1.sample.items() if xi >  0.5]\n",
    "S1 = [int(j[j.index('.')+1:]) for (j, xi) in solution1.sample.items() if xi <= 0.5]\n",
    "\n",
    "print('S:', S)\n",
    "print('S0:',S0)\n",
    "print('S1:',S1)\n",
    "\n",
    "print(\"\")\n",
    "\n",
    "print(\"sum(S0) %8d\" % sum(S0))\n",
    "print(\"sum(S1) %8d\" % sum(S1))"
   ]
  },
  {
   "cell_type": "markdown",
   "metadata": {},
   "source": [
    "## Solve on QPU"
   ]
  },
  {
   "cell_type": "code",
   "execution_count": 25,
   "metadata": {
    "scrolled": true
   },
   "outputs": [
    {
     "name": "stdout",
     "output_type": "stream",
     "text": [
      "Solving QUBO problem (100 vars, 900 nz) on QPU...\n",
      "Solved in 110.73 seconds\n",
      "  x0.6 x1.3 x10.10 x11.7 x12.4 x13.3 x14.7 x15.7 ... x99.4  energy num_oc. ...\n",
      "4    1    0      1     0     0     1     1     0 ...     0     4.0       1 ...\n",
      "6    1    1      0     0     1     1     1     1 ...     1    36.0       1 ...\n",
      "0    0    0      1     0     1     1     1     0 ...     0    64.0       1 ...\n",
      "3    0    0      1     1     0     1     1     0 ...     0   196.0       1 ...\n",
      "7    1    1      1     0     0     1     1     1 ...     0   196.0       1 ...\n",
      "8    0    1      1     1     1     0     1     0 ...     1   196.0       1 ...\n",
      "1    1    1      1     1     1     1     1     0 ...     0   400.0       1 ...\n",
      "5    1    1      1     0     0     0     1     0 ...     0   400.0       1 ...\n",
      "9    1    0      1     0     1     1     1     0 ...     0   400.0       1 ...\n",
      "2    1    1      1     0     1     1     1     1 ...     0 12544.0       1 ...\n",
      "['BINARY', 10 rows, 10 samples, 93 variables]\n",
      "\n",
      "S: [ 6  3 10  7  4  6  9  2  6 10 10  7  4  3  7  7  2  5  4  1  7  5  1  4\n",
      "  0  9  5  8  0 10 10  9  2  6  3  8  2  4  2  6  4  8  6  1  3  8  1  9\n",
      "  8  9  4  1  3  6  7  2  0  3  1  7  3  1  5  5  9  3  5  1  9  1  9  3\n",
      "  7  6  8  7  4  1  4  7  9  8  8  0  8  6  8  7  0  7  7 10  2  0  7  2\n",
      "  2  0 10  4]\n",
      "S0: [6, 10, 3, 7, 2, 5, 4, 10, 7, 10, 7, 9, 8, 2, 4, 6, 8, 8, 9, 6, 4, 3, 1, 5, 5, 3, 1, 2, 9, 3, 7, 6, 7, 4, 1, 4, 7, 9, 8, 8, 8, 7, 10, 2]\n",
      "S1: [3, 7, 4, 7, 1, 5, 1, 4, 9, 5, 8, 10, 2, 6, 3, 2, 4, 4, 6, 1, 3, 1, 8, 9, 1, 6, 7, 2, 3, 1, 7, 9, 3, 9, 5, 1, 9, 8, 6, 8, 6, 7, 7, 10, 2, 7, 2, 10, 4]\n",
      "\n",
      "sum(S0)      255\n",
      "sum(S1)      253\n"
     ]
    }
   ],
   "source": [
    "k=10\n",
    "# solve problem\n",
    "solution1, response1 = solve_qubo(H,spins,\"QPU\",k)\n",
    "\n",
    "# display result\n",
    "print(response1)\n",
    "# for smple, energy, num_occ in response.data(['sample','energy','num_occurrences']):\n",
    "#     print(num_occ)\n",
    "\n",
    "# display sums\n",
    "print(\"\")\n",
    "S0 = [int(j[j.find('.')+1:]) for (j, xi) in solution1.sample.items() if xi >  0.5]\n",
    "S1 = [int(j[j.index('.')+1:]) for (j, xi) in solution1.sample.items() if xi <= 0.5]\n",
    "\n",
    "print('S:', S)\n",
    "print('S0:',S0)\n",
    "print('S1:',S1)\n",
    "\n",
    "print(\"\")\n",
    "\n",
    "print(\"sum(S0) %8d\" % sum(S0))\n",
    "print(\"sum(S1) %8d\" % sum(S1))"
   ]
  },
  {
   "cell_type": "code",
   "execution_count": null,
   "metadata": {},
   "outputs": [],
   "source": []
  },
  {
   "cell_type": "code",
   "execution_count": null,
   "metadata": {},
   "outputs": [],
   "source": []
  }
 ],
 "metadata": {
  "kernelspec": {
   "display_name": "Python 3",
   "language": "python",
   "name": "python3"
  },
  "language_info": {
   "codemirror_mode": {
    "name": "ipython",
    "version": 3
   },
   "file_extension": ".py",
   "mimetype": "text/x-python",
   "name": "python",
   "nbconvert_exporter": "python",
   "pygments_lexer": "ipython3",
   "version": "3.8.3"
  }
 },
 "nbformat": 4,
 "nbformat_minor": 4
}
