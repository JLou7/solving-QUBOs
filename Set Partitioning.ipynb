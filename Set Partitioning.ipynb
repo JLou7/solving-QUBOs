{
 "cells": [
  {
   "cell_type": "markdown",
   "metadata": {},
   "source": [
    "# Set Partitioning Problem\n",
    "This notebook solves the set partitioning problem example presented in Glover's tutorial\n",
    "\n",
    "Solved using DWave's Constrained Quadratic Model solver"
   ]
  },
  {
   "cell_type": "code",
   "execution_count": 1,
   "metadata": {},
   "outputs": [],
   "source": [
    "import time\n",
    "import numpy as np\n",
    "\n",
    "import dimod\n",
    "from dwave.system import LeapHybridCQMSampler\n",
    "from dwave import inspector"
   ]
  },
  {
   "cell_type": "markdown",
   "metadata": {},
   "source": [
    "## Problem\n",
    "min $y=3x_1+2x_2+x_3+x_4+3x_5+2x_6 \\quad s.t. \\quad \\begin{cases} x_1+x_3+x_6=1\\\\\n",
    "x_2+x_3+x_5+x_6=1\\\\\n",
    "x_3+x_4+x_5=1\\\\\n",
    "x_1+x_2+x_4+x_6=1\n",
    "\\end{cases}$"
   ]
  },
  {
   "cell_type": "code",
   "execution_count": 13,
   "metadata": {},
   "outputs": [
    {
     "name": "stdout",
     "output_type": "stream",
     "text": [
      "objective   : 3*x1 + 2*x2 + x3 + 4*x4 + 3*x5 + 2*x6\n",
      "constraint 1 : x1 + 0*x2 + x3 + 0*x4 + 0*x5 + x6 == 1\n",
      "constraint 2 : 0*x1 + x2 + x3 + 0*x4 + x5 + x6 == 1\n",
      "constraint 3 : 0*x1 + 0*x2 + x3 + x4 + x5 + 0*x6 == 1\n",
      "constraint 4 : x1 + x2 + 0*x3 + x4 + 0*x5 + x6 == 1\n"
     ]
    }
   ],
   "source": [
    "# define cqm\n",
    "cqm = dimod.ConstrainedQuadraticModel()\n",
    "\n",
    "# build variables\n",
    "x = [dimod.Binary(f'x{n}') for n in range(1,7)]\n",
    "\n",
    "# set objective\n",
    "c = np.array([3,2,1,4,3,2])\n",
    "cqm.set_objective(np.dot(c,x))\n",
    "\n",
    "# add constraints\n",
    "A = np.array([[1,0,1,0,0,1],\n",
    "              [0,1,1,0,1,1],\n",
    "              [0,0,1,1,1,0],\n",
    "              [1,1,0,1,0,1]])\n",
    "indx = 0\n",
    "for i in A:\n",
    "    indx += 1\n",
    "    cqm.add_constraint(np.dot(i,x)==1, label=f'constraint {indx}')\n",
    "    \n",
    "print('objective   :', cqm.objective.to_polystring())\n",
    "for i in cqm.constraints:\n",
    "    print(i,\":\",cqm.constraints[i])"
   ]
  },
  {
   "cell_type": "code",
   "execution_count": 28,
   "metadata": {},
   "outputs": [
    {
     "name": "stdout",
     "output_type": "stream",
     "text": [
      "Solved in 11.64 seconds\n",
      "Sample(sample={'x1': 1.0, 'x2': 0.0, 'x3': 0.0, 'x4': 0.0, 'x5': 1.0, 'x6': 0.0}, energy=6.0, num_occurrences=1, is_feasible=True, is_satisfied=array([ True,  True,  True,  True]))\n"
     ]
    }
   ],
   "source": [
    "# sample on CQM solver\n",
    "\n",
    "start = time.time()\n",
    "# run hybrid solver\n",
    "sampler = LeapHybridCQMSampler()\n",
    "sampleset = sampler.sample_cqm(cqm, label='CQM Set Partition')\n",
    "feasible_sampleset = sampleset.filter(lambda row: row.is_feasible)\n",
    "elapsed = time.time() - start\n",
    "print(\"Solved in %.2f seconds\" % elapsed)\n",
    "\n",
    "try:\n",
    "    sample = feasible_sampleset.first.sample\n",
    "    solution = feasible_sampleset.first\n",
    "    print(solution)\n",
    "except:\n",
    "    print(\"\\nNo feasible solutions found\")"
   ]
  },
  {
   "cell_type": "code",
   "execution_count": 29,
   "metadata": {},
   "outputs": [
    {
     "name": "stdout",
     "output_type": "stream",
     "text": [
      "solution: {'x1': 1.0, 'x2': 0.0, 'x3': 0.0, 'x4': 0.0, 'x5': 1.0, 'x6': 0.0}\n",
      "objective function value: 6.0\n"
     ]
    }
   ],
   "source": [
    "soln = list(solution.sample.values())\n",
    "obj_val = sum(c*soln)\n",
    "print(\"solution:\",solution.sample)\n",
    "print(\"objective function value:\",obj_val)"
   ]
  },
  {
   "cell_type": "code",
   "execution_count": null,
   "metadata": {},
   "outputs": [],
   "source": []
  }
 ],
 "metadata": {
  "kernelspec": {
   "display_name": "Python 3",
   "language": "python",
   "name": "python3"
  },
  "language_info": {
   "codemirror_mode": {
    "name": "ipython",
    "version": 3
   },
   "file_extension": ".py",
   "mimetype": "text/x-python",
   "name": "python",
   "nbconvert_exporter": "python",
   "pygments_lexer": "ipython3",
   "version": "3.8.3"
  }
 },
 "nbformat": 4,
 "nbformat_minor": 4
}
