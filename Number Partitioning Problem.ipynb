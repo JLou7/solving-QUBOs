{
 "cells": [
  {
   "cell_type": "markdown",
   "metadata": {},
   "source": [
    "# Notebook for solving the Number Partitioning Problem\n",
    "Given a set $S$ of numbers, partition the elements into 2 subsets such that the sum of each subset is as close as possible.\n",
    "\n",
    "Solve using QUBOs and DWave's quantum annealer"
   ]
  },
  {
   "cell_type": "code",
   "execution_count": 1,
   "metadata": {},
   "outputs": [],
   "source": [
    "# import necessary packages\n",
    "import numpy as np\n",
    "import numpy.random as random\n",
    "\n",
    "import dimod\n",
    "\n",
    "from dwave.system.samplers import DWaveSampler\n",
    "from dwave.system.composites import LazyEmbeddingComposite\n",
    "from dwave import inspector\n",
    "\n",
    "import time"
   ]
  },
  {
   "cell_type": "markdown",
   "metadata": {},
   "source": [
    "## Function for solving QUBO\n",
    "Choose either CPU or QPU solver"
   ]
  },
  {
   "cell_type": "code",
   "execution_count": 2,
   "metadata": {},
   "outputs": [],
   "source": [
    "def solve_qubo(Q,\n",
    "               sampler=\"CPU\", # CPU or QPU\n",
    "               k=10,\n",
    "               chain_strength=None):\n",
    "    \"\"\"\n",
    "    Given an upper triangular matrix Q of size NxN, solves the quadratic unconstrained binary\n",
    "    optimization (QUBO) problem given by\n",
    "    \n",
    "        minimize sum(x[i] * Q[i,j] * x[j]\n",
    "                     for i in range(N),\n",
    "                     for j in range(i+1, N))\n",
    "    \n",
    "    Uses dimod.SimulatedAnnealingSampler, which solves the problem k times through simulated\n",
    "    annealing (on a regular CPU). This method returns the best solution found.\n",
    "    \"\"\"\n",
    "    assert isinstance(Q, np.ndarray)\n",
    "    assert sampler in [\"CPU\", \"QPU\"]\n",
    "    n = Q.shape[0]\n",
    "    nz = len(Q[Q!=0])\n",
    "    print(\"Solving QUBO problem (%d vars, %d nz) on %s...\" % (n, nz, sampler))\n",
    "    \n",
    "    start = time.time()\n",
    "    if sampler == \"CPU\":\n",
    "        sampler = dimod.SimulatedAnnealingSampler()\n",
    "        response = sampler.sample_qubo(Q, num_reads=k)\n",
    "    else:\n",
    "        if chain_strength is None:\n",
    "            chain_strength = int(10 * np.max(np.abs(Q)))\n",
    "        sampler = LazyEmbeddingComposite(DWaveSampler(solver=\"Advantage_system6.1\"))\n",
    "        response = sampler.sample_qubo(Q, num_reads=k, chain_strength=chain_strength)\n",
    "    elapsed = time.time() - start\n",
    "    \n",
    "    print(\"Solved in %.2f seconds\" % elapsed)\n",
    "    solution = min(response.data([\"sample\", \"energy\"]), key=lambda s: s.energy)\n",
    "    return solution, response"
   ]
  },
  {
   "cell_type": "markdown",
   "metadata": {},
   "source": [
    "## Create set of integers"
   ]
  },
  {
   "cell_type": "code",
   "execution_count": 3,
   "metadata": {},
   "outputs": [
    {
     "name": "stdout",
     "output_type": "stream",
     "text": [
      "[ 6  3 10  7  4  6  9  2  6 10 10  7  4  3  7  7  2  5  4  1  7  5  1  4\n",
      "  0  9  5  8  0 10 10  9  2  6  3  8  2  4  2  6  4  8  6  1  3  8  1  9\n",
      "  8  9  4  1  3  6  7  2  0  3  1  7  3  1  5  5  9  3  5  1  9  1  9  3\n",
      "  7  6  8  7  4  1  4  7  9  8  8  0  8  6  8  7  0  7  7 10  2  0  7  2\n",
      "  2  0 10  4]\n"
     ]
    }
   ],
   "source": [
    "n = 100\n",
    "random.seed(42)\n",
    "s = random.randint(11,size=(n))\n",
    "print(s)"
   ]
  },
  {
   "cell_type": "markdown",
   "metadata": {},
   "source": [
    "## Generate QUBO\n",
    "Objective function: min(diff$^2=c^2-4x^TQx)$\n",
    "\n",
    "$c$ is the sum of all the elements in $s$\n",
    "\n",
    "Q is defined:\n",
    "$q_{ii}=s_i(s_i-c) \\quad q_{ij}=s_is_j$"
   ]
  },
  {
   "cell_type": "code",
   "execution_count": 4,
   "metadata": {},
   "outputs": [
    {
     "name": "stdout",
     "output_type": "stream",
     "text": [
      "Q matrix: \n",
      "[[-3012.    18.    60. ...     0.    60.    24.]\n",
      " [   18. -1515.    30. ...     0.    30.    12.]\n",
      " [   60.    30. -4980. ...     0.   100.    40.]\n",
      " ...\n",
      " [    0.     0.     0. ...     0.     0.     0.]\n",
      " [   60.    30.   100. ...     0. -4980.    40.]\n",
      " [   24.    12.    40. ...     0.    40. -2016.]]\n"
     ]
    }
   ],
   "source": [
    "c = np.sum(s)\n",
    "\n",
    "Q = np.zeros([n,n])\n",
    "for (x,y) in np.ndenumerate(Q):\n",
    "    i = x[0]\n",
    "    j = x[1]\n",
    "    if i==j:\n",
    "        Q[i][j] = s[i]*(s[i]-c)\n",
    "    else:\n",
    "        Q[i][j] = s[i]*s[j]\n",
    "        \n",
    "print(\"Q matrix: \")\n",
    "print(Q)"
   ]
  },
  {
   "cell_type": "markdown",
   "metadata": {},
   "source": [
    "## Solve on classical CPU"
   ]
  },
  {
   "cell_type": "code",
   "execution_count": 6,
   "metadata": {
    "scrolled": true
   },
   "outputs": [
    {
     "name": "stdout",
     "output_type": "stream",
     "text": [
      "Solving QUBO problem (100 vars, 8649 nz) on CPU...\n",
      "Solved in 52.78 seconds\n",
      "   0  1  2  3  4  5  6  7  8  9 10 11 12 13 14 15 16 17 ... 99   energy num_oc.\n",
      "0  0  0  0  0  0  0  0  0  0  0  1  0  0  0  1  1  0  0 ...  1 -64516.0       1\n",
      "1  0  0  0  0  1  1  0  1  0  0  0  1  1  1  1  0  0  1 ...  1 -64516.0       1\n",
      "2  1  0  0  1  0  0  0  0  0  1  1  1  1  1  1  1  0  1 ...  1 -64516.0       1\n",
      "3  1  0  0  0  0  0  0  0  0  1  0  0  1  1  1  1  0  1 ...  0 -64516.0       1\n",
      "4  0  0  0  0  0  0  0  0  0  0  1  0  0  0  1  1  1  0 ...  0 -64516.0       1\n",
      "5  1  1  1  1  1  1  1  1  1  1  1  1  1  1  1  0  1  0 ...  1 -64516.0       1\n",
      "6  1  1  1  1  1  1  1  1  1  1  0  0  1  0  1  0  1  0 ...  1 -64516.0       1\n",
      "7  0  0  0  0  0  0  0  1  0  0  0  1  1  0  1  1  0  0 ...  1 -64516.0       1\n",
      "8  1  1  1  0  1  1  0  0  0  0  1  1  1  0  1  0  0  0 ...  1 -64516.0       1\n",
      "9  0  1  0  0  0  0  1  0  0  0  0  0  1  1  1  1  0  1 ...  0 -64516.0       1\n",
      "['BINARY', 10 rows, 10 samples, 100 variables]\n",
      "\n",
      "sum(S0)      254\n",
      "sum(S1)      254\n"
     ]
    }
   ],
   "source": [
    "k=10\n",
    "# solve problem\n",
    "solution1, response1 = solve_qubo(Q,\"CPU\",k)\n",
    "\n",
    "# display result\n",
    "print(response1)\n",
    "# for smple, energy, num_occ in response.data(['sample','energy','num_occurrences']):\n",
    "#     print(num_occ)\n",
    "\n",
    "# display sums\n",
    "print(\"\")\n",
    "S0 = [s[i] for (i, xi) in solution1.sample.items() if xi >  0.5]\n",
    "S1 = [s[i] for (i, xi) in solution1.sample.items() if xi <= 0.5]\n",
    "print(\"sum(S0) %8d\" % sum(S0))\n",
    "print(\"sum(S1) %8d\" % sum(S1))"
   ]
  },
  {
   "cell_type": "code",
   "execution_count": 7,
   "metadata": {},
   "outputs": [
    {
     "name": "stdout",
     "output_type": "stream",
     "text": [
      "Sample(sample={0: 0, 1: 0, 2: 0, 3: 0, 4: 0, 5: 0, 6: 0, 7: 0, 8: 0, 9: 0, 10: 1, 11: 0, 12: 0, 13: 0, 14: 1, 15: 1, 16: 0, 17: 0, 18: 0, 19: 1, 20: 0, 21: 0, 22: 1, 23: 0, 24: 0, 25: 0, 26: 1, 27: 0, 28: 0, 29: 1, 30: 0, 31: 1, 32: 1, 33: 1, 34: 1, 35: 0, 36: 1, 37: 0, 38: 0, 39: 1, 40: 0, 41: 1, 42: 0, 43: 0, 44: 1, 45: 1, 46: 0, 47: 0, 48: 1, 49: 0, 50: 0, 51: 0, 52: 1, 53: 1, 54: 0, 55: 0, 56: 1, 57: 0, 58: 0, 59: 0, 60: 1, 61: 1, 62: 1, 63: 1, 64: 1, 65: 1, 66: 1, 67: 1, 68: 1, 69: 0, 70: 0, 71: 1, 72: 1, 73: 1, 74: 1, 75: 1, 76: 0, 77: 0, 78: 1, 79: 0, 80: 1, 81: 0, 82: 0, 83: 1, 84: 1, 85: 1, 86: 1, 87: 0, 88: 0, 89: 0, 90: 1, 91: 1, 92: 1, 93: 0, 94: 1, 95: 1, 96: 0, 97: 1, 98: 1, 99: 1}, energy=-64516.0)\n"
     ]
    }
   ],
   "source": [
    "print(solution1)"
   ]
  },
  {
   "cell_type": "markdown",
   "metadata": {},
   "source": [
    "## Solve on a Quantum Annealer"
   ]
  },
  {
   "cell_type": "code",
   "execution_count": 10,
   "metadata": {},
   "outputs": [
    {
     "name": "stdout",
     "output_type": "stream",
     "text": [
      "Solving QUBO problem (100 vars, 8649 nz) on QPU...\n",
      "Solved in 84.59 seconds\n",
      "Sample(sample={0: 1, 1: 1, 2: 1, 3: 0, 4: 1, 5: 1, 6: 1, 7: 0, 8: 1, 9: 1, 10: 0, 11: 0, 12: 0, 13: 0, 14: 0, 15: 1, 16: 1, 17: 0, 18: 1, 19: 1, 20: 0, 21: 1, 22: 0, 23: 0, 24: 1, 25: 0, 26: 0, 27: 1, 28: 0, 29: 0, 30: 0, 31: 0, 32: 0, 33: 0, 34: 1, 35: 1, 36: 0, 37: 1, 38: 0, 39: 0, 40: 1, 41: 0, 42: 0, 43: 0, 44: 0, 45: 0, 46: 1, 47: 0, 48: 1, 49: 0, 50: 0, 51: 1, 52: 0, 53: 0, 54: 0, 55: 0, 56: 1, 57: 0, 58: 0, 59: 0, 60: 0, 61: 0, 62: 1, 63: 1, 64: 1, 65: 1, 66: 1, 67: 1, 68: 1, 69: 1, 70: 0, 71: 0, 72: 1, 73: 1, 74: 1, 75: 1, 76: 1, 77: 1, 78: 1, 79: 1, 80: 1, 81: 1, 82: 0, 83: 0, 84: 0, 85: 1, 86: 1, 87: 1, 88: 0, 89: 0, 90: 0, 91: 0, 92: 0, 93: 1, 94: 1, 95: 0, 96: 1, 97: 0, 98: 1, 99: 0}, energy=-64491.0)\n"
     ]
    }
   ],
   "source": [
    "k=10\n",
    "# solve problem\n",
    "solution, response = solve_qubo(Q,\"QPU\",k)\n",
    "print(solution)"
   ]
  },
  {
   "cell_type": "code",
   "execution_count": 11,
   "metadata": {
    "scrolled": true
   },
   "outputs": [
    {
     "name": "stdout",
     "output_type": "stream",
     "text": [
      "   0  1  2  3  4  5  6  7  8  9 10 11 12 13 14 15 ... 99   energy num_oc. ...\n",
      "3  1  1  1  0  1  1  1  0  1  1  0  0  0  0  0  1 ...  0 -64491.0       1 ...\n",
      "0  1  0  0  1  1  1  0  1  0  0  0  0  1  1  1  1 ...  1 -64467.0       1 ...\n",
      "1  0  0  0  0  0  1  0  0  0  1  0  0  1  0  0  0 ...  0 -64416.0       1 ...\n",
      "5  1  1  0  0  1  0  1  1  0  0  0  0  0  0  1  1 ...  1 -64372.0       1 ...\n",
      "6  1  0  1  1  0  1  0  0  0  1  0  0  0  0  0  0 ...  1 -64192.0       1 ...\n",
      "7  0  1  1  0  0  1  1  1  0  0  1  1  1  0  0  1 ...  0 -64155.0       1 ...\n",
      "2  1  0  1  0  0  0  1  1  1  1  1  0  0  0  1  0 ...  0 -63732.0       1 ...\n",
      "4  1  0  0  0  1  0  1  1  0  1  1  0  0  0  0  1 ...  0 -63732.0       1 ...\n",
      "8  1  0  0  0  0  0  1  1  0  1  0  0  0  1  1  0 ...  1 -63616.0       1 ...\n",
      "9  1  1  1  1  1  0  1  1  1  1  1  0  1  0  1  0 ...  1 -63427.0       1 ...\n",
      "['BINARY', 10 rows, 10 samples, 100 variables]\n",
      "\n",
      "sum(S0)      249\n",
      "sum(S1)      259\n"
     ]
    }
   ],
   "source": [
    "# display result\n",
    "print(response)\n",
    "\n",
    "# display sums\n",
    "print(\"\")\n",
    "S0 = [s[i] for (i, xi) in solution.sample.items() if xi >  0.5]\n",
    "S1 = [s[i] for (i, xi) in solution.sample.items() if xi <= 0.5]\n",
    "print(\"sum(S0) %8d\" % sum(S0))\n",
    "print(\"sum(S1) %8d\" % sum(S1))"
   ]
  },
  {
   "cell_type": "code",
   "execution_count": null,
   "metadata": {},
   "outputs": [],
   "source": [
    "inspector.show(response)"
   ]
  },
  {
   "cell_type": "code",
   "execution_count": null,
   "metadata": {},
   "outputs": [],
   "source": []
  }
 ],
 "metadata": {
  "kernelspec": {
   "display_name": "Python 3",
   "language": "python",
   "name": "python3"
  },
  "language_info": {
   "codemirror_mode": {
    "name": "ipython",
    "version": 3
   },
   "file_extension": ".py",
   "mimetype": "text/x-python",
   "name": "python",
   "nbconvert_exporter": "python",
   "pygments_lexer": "ipython3",
   "version": "3.8.3"
  }
 },
 "nbformat": 4,
 "nbformat_minor": 4
}
