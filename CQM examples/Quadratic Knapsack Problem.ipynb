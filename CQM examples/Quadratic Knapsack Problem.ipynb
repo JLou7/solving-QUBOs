{
 "cells": [
  {
   "cell_type": "markdown",
   "metadata": {},
   "source": [
    "# Quadratic Knapsack Problem\n",
    "Knapsack problem where there are interactions between items being chosen"
   ]
  },
  {
   "cell_type": "code",
   "execution_count": 1,
   "metadata": {},
   "outputs": [],
   "source": [
    "# import necessary things\n",
    "import time\n",
    "import dimod\n",
    "\n",
    "import numpy as np\n",
    "import numpy.random as random\n",
    "\n",
    "from dwave.system import LeapHybridCQMSampler"
   ]
  },
  {
   "cell_type": "markdown",
   "metadata": {},
   "source": [
    "## Set up problem\n",
    "Solving example problem from Glover's tutorial using CQM"
   ]
  },
  {
   "cell_type": "code",
   "execution_count": 6,
   "metadata": {},
   "outputs": [],
   "source": [
    "# matrix of values\n",
    "v = np.array([[2,8,6,10],\n",
    "              [0,5,2,6],\n",
    "              [0,0,2,4],\n",
    "              [0,0,0,4]])\n",
    "\n",
    "# list of costs\n",
    "a = [8, 6, 5, 3]\n",
    "\n",
    "# budget\n",
    "b = 16"
   ]
  },
  {
   "cell_type": "markdown",
   "metadata": {},
   "source": [
    "## CQM"
   ]
  },
  {
   "cell_type": "code",
   "execution_count": 8,
   "metadata": {},
   "outputs": [
    {
     "name": "stdout",
     "output_type": "stream",
     "text": [
      "objective: -2*v0 - 5*v1 - 2*v2 - 4*v3 - 8*v0*v1 - 6*v0*v2 - 2*v1*v2 - 10*v0*v3 - 6*v1*v3 - 4*v2*v3\n",
      "budget constraint: 8*v0 + 6*v1 + 5*v2 + 3*v3 <= 16\n"
     ]
    }
   ],
   "source": [
    "cqm = dimod.ConstrainedQuadraticModel()\n",
    "\n",
    "# define variables\n",
    "x = [dimod.Binary(i) for i in range(4)]\n",
    "\n",
    "# set objective\n",
    "obj = 0\n",
    "for i in range(len(x)):\n",
    "    for j in range(len(x)):\n",
    "        obj += v[i][j]*x[i]*x[j]\n",
    "cqm.set_objective(-obj)\n",
    "print(\"objective:\", cqm.objective.to_polystring())\n",
    "\n",
    "# add budget constraint\n",
    "cqm.add_constraint(np.dot(a,x)<=b,label='budget constraint')\n",
    "print('budget constraint:',cqm.constraints['budget constraint'])"
   ]
  },
  {
   "cell_type": "markdown",
   "metadata": {},
   "source": [
    "## Sample and solve"
   ]
  },
  {
   "cell_type": "code",
   "execution_count": 9,
   "metadata": {},
   "outputs": [
    {
     "name": "stdout",
     "output_type": "stream",
     "text": [
      "Solved in 12.71 seconds\n",
      "Sample(sample={0: 1.0, 1: 0.0, 2: 1.0, 3: 1.0}, energy=-28.0, num_occurrences=1, is_feasible=True, is_satisfied=array([ True]))\n"
     ]
    }
   ],
   "source": [
    "start = time.time()\n",
    "# run hybrid solver\n",
    "sampler = LeapHybridCQMSampler()\n",
    "sampleset = sampler.sample_cqm(cqm, label='CQM Quad Knapsack')\n",
    "feasible_sampleset = sampleset.filter(lambda row: row.is_feasible)\n",
    "elapsed = time.time() - start\n",
    "print(\"Solved in %.2f seconds\" % elapsed)\n",
    "\n",
    "try:\n",
    "    sample = feasible_sampleset.first.sample\n",
    "    solution = feasible_sampleset.first\n",
    "    print(solution)\n",
    "except:\n",
    "    print(\"\\nNo feasible solutions found\")"
   ]
  },
  {
   "cell_type": "code",
   "execution_count": 10,
   "metadata": {},
   "outputs": [
    {
     "name": "stdout",
     "output_type": "stream",
     "text": [
      "solution: {0: 1.0, 1: 0.0, 2: 1.0, 3: 1.0}\n",
      "objective function value: -28.0\n"
     ]
    }
   ],
   "source": [
    "soln = list(solution.sample.values())\n",
    "obj_val = solution.energy\n",
    "print(\"solution:\",solution.sample)\n",
    "print(\"objective function value:\",obj_val)"
   ]
  },
  {
   "cell_type": "code",
   "execution_count": 12,
   "metadata": {},
   "outputs": [
    {
     "name": "stdout",
     "output_type": "stream",
     "text": [
      "value: 28.0\n",
      "weight: 16.0\n"
     ]
    }
   ],
   "source": [
    "soln_vals = list(sample.values())\n",
    "print('value:',np.dot(np.dot(v,soln_vals),soln_vals))\n",
    "print('weight:',np.dot(a,soln_vals))"
   ]
  },
  {
   "cell_type": "code",
   "execution_count": null,
   "metadata": {},
   "outputs": [],
   "source": []
  }
 ],
 "metadata": {
  "kernelspec": {
   "display_name": "Python 3",
   "language": "python",
   "name": "python3"
  },
  "language_info": {
   "codemirror_mode": {
    "name": "ipython",
    "version": 3
   },
   "file_extension": ".py",
   "mimetype": "text/x-python",
   "name": "python",
   "nbconvert_exporter": "python",
   "pygments_lexer": "ipython3",
   "version": "3.8.3"
  }
 },
 "nbformat": 4,
 "nbformat_minor": 4
}
