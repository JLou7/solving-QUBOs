{
 "cells": [
  {
   "cell_type": "markdown",
   "metadata": {},
   "source": [
    "# Graph coloring problem\n",
    "Given an undirected graph and a set of colors, color the graph so that adjacent nodes are different colors"
   ]
  },
  {
   "cell_type": "code",
   "execution_count": 1,
   "metadata": {},
   "outputs": [],
   "source": [
    "# import necessary packages\n",
    "import time\n",
    "import numpy as np\n",
    "import numpy.random as random\n",
    "\n",
    "import dimod\n",
    "import networkx as nx\n",
    "\n",
    "from dwave.system.samplers import LeapHybridCQMSampler"
   ]
  },
  {
   "cell_type": "markdown",
   "metadata": {},
   "source": [
    "## Generate graph\n",
    "(started with graph from Glover's tutorial)"
   ]
  },
  {
   "cell_type": "code",
   "execution_count": 2,
   "metadata": {},
   "outputs": [
    {
     "data": {
      "image/png": "[encoded data removed]",
      "text/plain": [
       "<Figure size 432x288 with 1 Axes>"
      ]
     },
     "metadata": {},
     "output_type": "display_data"
    }
   ],
   "source": [
    "# graph from glover\n",
    "graph = nx.Graph()\n",
    "graph.add_nodes_from([1,5])\n",
    "graph.add_edges_from([(1,2),(1,5),(2,3),(2,4),(2,5),(3,4),(4,5)])\n",
    "\n",
    "# house positions\n",
    "pos = {1: (0.5, 2.0), 2: (1, 1), 3: (1, 0), 4: (0, 0),  5: (0, 1)}\n",
    "\n",
    "nx.draw(graph, pos=pos, with_labels=True)\n",
    "\n",
    "# # generate random graph\n",
    "# # number of nodes\n",
    "# n = 5\n",
    "# # edge generation probability\n",
    "# p = 0.65\n",
    "# # seed (optional)\n",
    "# seed = 42\n",
    "# #generate graph\n",
    "# graph = nx.gnp_random_graph(n,p,seed)\n",
    "\n",
    "# # draw graph\n",
    "# nx.draw(graph, with_labels=True)\n",
    "\n",
    "# print(len(graph.edges))"
   ]
  },
  {
   "cell_type": "markdown",
   "metadata": {},
   "source": [
    "# Build CQM\n",
    "change `num_colors` to try out coloring the graph with different numbers of colors"
   ]
  },
  {
   "cell_type": "code",
   "execution_count": 3,
   "metadata": {},
   "outputs": [],
   "source": [
    "# specify number of colors\n",
    "num_colors = 4\n",
    "\n",
    "# instantiate cqm\n",
    "cqm = dimod.ConstrainedQuadraticModel()\n",
    "\n",
    "# Build CQM variables\n",
    "colors = {n: {c: dimod.Binary((n, c)) for c in range(num_colors)} for n in graph.nodes}\n",
    "\n",
    "# Add constraint to make variables discrete\n",
    "for n in graph.nodes():\n",
    "    cqm.add_discrete([(n, c) for c in range(num_colors)])\n",
    "\n",
    "# Build the constraints: edges have different color end points\n",
    "for u, v in graph.edges:\n",
    "    for c in range(num_colors):\n",
    "        cqm.add_constraint(colors[u][c]*colors[v][c] == 0)\n",
    "\n",
    "# # define variables\n",
    "# node_colors = np.empty([len(graph.nodes),num_colors],dtype=tuple)\n",
    "# for n in graph.nodes:\n",
    "#     for c in range(num_colors):\n",
    "#         node_colors[n-1][c] = (dimod.Binary((n,c)))\n",
    "\n",
    "# # define one-hot coloring constraint\n",
    "# for n in graph.nodes:\n",
    "#     cqm.add_discrete(((n,c) for c in range(num_colors)),label=f'color node {n}')\n",
    "    \n",
    "# # define adjacent colors constraint\n",
    "# for (i,j) in graph.edges:\n",
    "#     for c in range(num_colors):\n",
    "#         cqm.add_constraint(node_colors[i-1][c]+node_colors[j-1][c]<=1, label=f'check nodes {i},{j} color {c}')"
   ]
  },
  {
   "cell_type": "code",
   "execution_count": 4,
   "metadata": {
    "scrolled": true
   },
   "outputs": [
    {
     "name": "stdout",
     "output_type": "stream",
     "text": [
      "objective   : 0*v(1, 0) + 0*v(1, 1) + 0*v(1, 2) + 0*v(1, 3) + 0*v(5, 0) + 0*v(5, 1) + 0*v(5, 2) + 0*v(5, 3) + 0*v(2, 0) + 0*v(2, 1) + 0*v(2, 2) + 0*v(2, 3) + 0*v(3, 0) + 0*v(3, 1) + 0*v(3, 2) + 0*v(3, 3) + 0*v(4, 0) + 0*v(4, 1) + 0*v(4, 2) + 0*v(4, 3)\n",
      "0b0ba4 : v(1, 0) + v(1, 1) + v(1, 2) + v(1, 3) == 1\n",
      "7f7840 : v(5, 0) + v(5, 1) + v(5, 2) + v(5, 3) == 1\n",
      "e81883 : v(2, 0) + v(2, 1) + v(2, 2) + v(2, 3) == 1\n",
      "8974b2 : v(3, 0) + v(3, 1) + v(3, 2) + v(3, 3) == 1\n",
      "77cd61 : v(4, 0) + v(4, 1) + v(4, 2) + v(4, 3) == 1\n",
      "ae3a68 : v(1, 0)*v(2, 0) == 0\n",
      "229e1c : v(1, 1)*v(2, 1) == 0\n",
      "c2b017 : v(1, 2)*v(2, 2) == 0\n",
      "2b6760 : v(1, 3)*v(2, 3) == 0\n",
      "b6e088 : v(1, 0)*v(5, 0) == 0\n",
      "531192 : v(1, 1)*v(5, 1) == 0\n",
      "ec1b54 : v(1, 2)*v(5, 2) == 0\n",
      "0816f8 : v(1, 3)*v(5, 3) == 0\n",
      "5b39eb : v(5, 0)*v(2, 0) == 0\n",
      "f852c8 : v(5, 1)*v(2, 1) == 0\n",
      "bd99d5 : v(5, 2)*v(2, 2) == 0\n",
      "0cacbf : v(5, 3)*v(2, 3) == 0\n",
      "f13f01 : v(5, 0)*v(4, 0) == 0\n",
      "30cf82 : v(5, 1)*v(4, 1) == 0\n",
      "ed8046 : v(5, 2)*v(4, 2) == 0\n",
      "a956bd : v(5, 3)*v(4, 3) == 0\n",
      "2b5bb5 : v(2, 0)*v(3, 0) == 0\n",
      "e9eb39 : v(2, 1)*v(3, 1) == 0\n",
      "4e661e : v(2, 2)*v(3, 2) == 0\n",
      "0c6f6b : v(2, 3)*v(3, 3) == 0\n",
      "cf70bf : v(2, 0)*v(4, 0) == 0\n",
      "ac9116 : v(2, 1)*v(4, 1) == 0\n",
      "9c35d8 : v(2, 2)*v(4, 2) == 0\n",
      "e927ee : v(2, 3)*v(4, 3) == 0\n",
      "bf87dd : v(3, 0)*v(4, 0) == 0\n",
      "b45080 : v(3, 1)*v(4, 1) == 0\n",
      "b72984 : v(3, 2)*v(4, 2) == 0\n",
      "d2a8a2 : v(3, 3)*v(4, 3) == 0\n"
     ]
    }
   ],
   "source": [
    "print('objective   :', cqm.objective.to_polystring())\n",
    "for i in cqm.constraints:\n",
    "    print(i,\":\",cqm.constraints[i])"
   ]
  },
  {
   "cell_type": "markdown",
   "metadata": {},
   "source": [
    "## Sample/Solve"
   ]
  },
  {
   "cell_type": "code",
   "execution_count": 5,
   "metadata": {
    "scrolled": true
   },
   "outputs": [
    {
     "name": "stdout",
     "output_type": "stream",
     "text": [
      "Solved in 27.42 seconds\n",
      "Sample(sample={(1, 0): 0.0, (1, 1): 0.0, (1, 2): 0.0, (1, 3): 1.0, (2, 0): 0.0, (2, 1): 0.0, (2, 2): 1.0, (2, 3): 0.0, (3, 0): 1.0, (3, 1): 0.0, (3, 2): 0.0, (3, 3): 0.0, (4, 0): 0.0, (4, 1): 0.0, (4, 2): 0.0, (4, 3): 1.0, (5, 0): 0.0, (5, 1): 1.0, (5, 2): 0.0, (5, 3): 0.0}, energy=0.0, num_occurrences=1, is_feasible=True, is_satisfied=array([ True,  True,  True,  True,  True,  True,  True,  True,  True,\n",
      "        True,  True,  True,  True,  True,  True,  True,  True,  True,\n",
      "        True,  True,  True,  True,  True,  True,  True,  True,  True,\n",
      "        True,  True,  True,  True,  True,  True]))\n"
     ]
    }
   ],
   "source": [
    "start = time.time()\n",
    "# run hybrid solver\n",
    "sampler = LeapHybridCQMSampler()\n",
    "sampleset = sampler.sample_cqm(cqm, time_limit=20, label='CQM General 0/1')\n",
    "feasible_sampleset = sampleset.filter(lambda row: row.is_feasible)\n",
    "elapsed = time.time() - start\n",
    "print(\"Solved in %.2f seconds\" % elapsed)\n",
    "\n",
    "try:\n",
    "    sample = feasible_sampleset.first.sample\n",
    "    solution = feasible_sampleset.first\n",
    "    print(solution)\n",
    "except:\n",
    "    print(\"\\nNo feasible solutions found\")"
   ]
  },
  {
   "cell_type": "code",
   "execution_count": 6,
   "metadata": {
    "scrolled": true
   },
   "outputs": [
    {
     "name": "stdout",
     "output_type": "stream",
     "text": [
      "   (1, 0) (1, 1) (1, 2) (1, 3) (2, 0) (2, 1) ... (5, 3) energy num_oc. ...\n",
      "0     0.0    0.0    0.0    1.0    0.0    0.0 ...    0.0    0.0       1 ...\n",
      "1     0.0    0.0    1.0    0.0    1.0    0.0 ...    1.0    0.0       1 ...\n",
      "2     0.0    0.0    1.0    0.0    1.0    0.0 ...    0.0    0.0       1 ...\n",
      "3     0.0    1.0    0.0    0.0    1.0    0.0 ...    0.0    0.0       1 ...\n",
      "4     0.0    0.0    0.0    1.0    1.0    0.0 ...    0.0    0.0       1 ...\n",
      "5     0.0    0.0    0.0    1.0    0.0    0.0 ...    0.0    0.0       1 ...\n",
      "6     0.0    0.0    1.0    0.0    0.0    0.0 ...    0.0    0.0       1 ...\n",
      "7     0.0    1.0    0.0    0.0    0.0    0.0 ...    1.0    0.0       1 ...\n",
      "8     0.0    1.0    0.0    0.0    1.0    0.0 ...    1.0    0.0       1 ...\n",
      "9     1.0    0.0    0.0    0.0    0.0    0.0 ...    1.0    0.0       1 ...\n",
      "10    1.0    0.0    0.0    0.0    0.0    0.0 ...    0.0    0.0       1 ...\n",
      "11    0.0    0.0    1.0    0.0    0.0    0.0 ...    0.0    0.0       1 ...\n",
      "12    0.0    0.0    0.0    1.0    1.0    0.0 ...    0.0    0.0       1 ...\n",
      "13    0.0    1.0    0.0    0.0    0.0    0.0 ...    0.0    0.0       1 ...\n",
      "14    1.0    0.0    0.0    0.0    0.0    1.0 ...    1.0    0.0       1 ...\n",
      "15    0.0    0.0    1.0    0.0    0.0    1.0 ...    1.0    0.0       1 ...\n",
      "16    0.0    0.0    1.0    0.0    0.0    1.0 ...    0.0    0.0       1 ...\n",
      "17    1.0    0.0    0.0    0.0    0.0    0.0 ...    1.0    0.0       1 ...\n",
      "18    0.0    0.0    0.0    1.0    0.0    1.0 ...    0.0    0.0       1 ...\n",
      "19    1.0    0.0    0.0    0.0    0.0    1.0 ...    1.0    0.0       1 ...\n",
      "20    0.0    1.0    0.0    0.0    1.0    0.0 ...    0.0    0.0       1 ...\n",
      "21    0.0    1.0    0.0    0.0    0.0    0.0 ...    0.0    0.0       1 ...\n",
      "22    0.0    0.0    1.0    0.0    1.0    0.0 ...    1.0    0.0       1 ...\n",
      "23    0.0    1.0    0.0    0.0    0.0    0.0 ...    0.0    0.0       1 ...\n",
      "24    1.0    0.0    0.0    0.0    0.0    0.0 ...    0.0    0.0       1 ...\n",
      "25    0.0    0.0    1.0    0.0    1.0    0.0 ...    1.0    0.0       1 ...\n",
      "26    1.0    0.0    0.0    0.0    0.0    1.0 ...    1.0    0.0       1 ...\n",
      "27    0.0    0.0    1.0    0.0    1.0    0.0 ...    1.0    0.0       1 ...\n",
      "28    0.0    0.0    1.0    0.0    1.0    0.0 ...    1.0    0.0       1 ...\n",
      "29    0.0    0.0    1.0    0.0    0.0    0.0 ...    0.0    0.0       1 ...\n",
      "30    1.0    0.0    0.0    0.0    0.0    0.0 ...    0.0    0.0       1 ...\n",
      "31    0.0    0.0    1.0    0.0    1.0    0.0 ...    1.0    0.0       1 ...\n",
      "32    0.0    0.0    1.0    0.0    1.0    0.0 ...    1.0    0.0       1 ...\n",
      "33    0.0    0.0    1.0    0.0    0.0    0.0 ...    0.0    0.0       1 ...\n",
      "34    1.0    0.0    0.0    0.0    0.0    0.0 ...    1.0    0.0       1 ...\n",
      "35    0.0    1.0    0.0    0.0    1.0    0.0 ...    0.0    0.0       1 ...\n",
      "36    0.0    0.0    0.0    1.0    1.0    0.0 ...    0.0    0.0       1 ...\n",
      "37    0.0    0.0    0.0    1.0    1.0    0.0 ...    0.0    0.0       1 ...\n",
      "38    0.0    0.0    0.0    1.0    0.0    0.0 ...    0.0    0.0       1 ...\n",
      "39    0.0    0.0    1.0    0.0    0.0    1.0 ...    0.0    0.0       1 ...\n",
      "40    0.0    1.0    0.0    0.0    1.0    0.0 ...    1.0    0.0       1 ...\n",
      "41    0.0    0.0    1.0    0.0    1.0    0.0 ...    1.0    0.0       1 ...\n",
      "42    0.0    1.0    0.0    0.0    0.0    0.0 ...    0.0    0.0       1 ...\n",
      "43    1.0    0.0    0.0    0.0    0.0    0.0 ...    0.0    0.0       1 ...\n",
      "44    1.0    0.0    0.0    0.0    0.0    1.0 ...    0.0    0.0       1 ...\n",
      "45    1.0    0.0    0.0    0.0    0.0    1.0 ...    1.0    0.0       1 ...\n",
      "46    1.0    0.0    0.0    0.0    0.0    1.0 ...    1.0    0.0       1 ...\n",
      "47    0.0    1.0    0.0    0.0    0.0    0.0 ...    1.0    0.0       1 ...\n",
      "['INTEGER', 48 rows, 48 samples, 20 variables]\n"
     ]
    }
   ],
   "source": [
    "print(feasible_sampleset)"
   ]
  },
  {
   "cell_type": "code",
   "execution_count": 7,
   "metadata": {},
   "outputs": [
    {
     "name": "stdout",
     "output_type": "stream",
     "text": [
      "solution: {(1, 0): 0.0, (1, 1): 0.0, (1, 2): 0.0, (1, 3): 1.0, (2, 0): 0.0, (2, 1): 0.0, (2, 2): 1.0, (2, 3): 0.0, (3, 0): 1.0, (3, 1): 0.0, (3, 2): 0.0, (3, 3): 0.0, (4, 0): 0.0, (4, 1): 0.0, (4, 2): 0.0, (4, 3): 1.0, (5, 0): 0.0, (5, 1): 1.0, (5, 2): 0.0, (5, 3): 0.0}\n",
      "objective function value: 15.0\n"
     ]
    }
   ],
   "source": [
    "soln = list(solution.sample.values())\n",
    "obj_val = sum(c*soln)\n",
    "print(\"solution:\",solution.sample)\n",
    "print(\"objective function value:\",obj_val)"
   ]
  },
  {
   "cell_type": "markdown",
   "metadata": {},
   "source": [
    "# Redraw graph with solution"
   ]
  },
  {
   "cell_type": "code",
   "execution_count": 8,
   "metadata": {},
   "outputs": [
    {
     "ename": "IndexError",
     "evalue": "index 5 is out of bounds for axis 0 with size 5",
     "output_type": "error",
     "traceback": [
      "\u001b[1;31m---------------------------------------------------------------------------\u001b[0m",
      "\u001b[1;31mIndexError\u001b[0m                                Traceback (most recent call last)",
      "\u001b[1;32m<ipython-input-8-bac3c8afa0c5>\u001b[0m in \u001b[0;36m<module>\u001b[1;34m\u001b[0m\n\u001b[0;32m      4\u001b[0m \u001b[1;32mfor\u001b[0m \u001b[0mi\u001b[0m \u001b[1;32min\u001b[0m \u001b[0msolution\u001b[0m\u001b[1;33m.\u001b[0m\u001b[0msample\u001b[0m\u001b[1;33m:\u001b[0m\u001b[1;33m\u001b[0m\u001b[1;33m\u001b[0m\u001b[0m\n\u001b[0;32m      5\u001b[0m     \u001b[1;32mif\u001b[0m \u001b[0mtype\u001b[0m\u001b[1;33m(\u001b[0m\u001b[0mi\u001b[0m\u001b[1;33m)\u001b[0m \u001b[1;32mis\u001b[0m \u001b[0mtuple\u001b[0m \u001b[1;32mand\u001b[0m \u001b[0msolution\u001b[0m\u001b[1;33m.\u001b[0m\u001b[0msample\u001b[0m\u001b[1;33m[\u001b[0m\u001b[0mi\u001b[0m\u001b[1;33m]\u001b[0m \u001b[1;33m>\u001b[0m \u001b[1;36m0.5\u001b[0m\u001b[1;33m:\u001b[0m\u001b[1;33m\u001b[0m\u001b[1;33m\u001b[0m\u001b[0m\n\u001b[1;32m----> 6\u001b[1;33m         \u001b[0mcolor_map\u001b[0m\u001b[1;33m[\u001b[0m\u001b[0mi\u001b[0m\u001b[1;33m[\u001b[0m\u001b[1;36m0\u001b[0m\u001b[1;33m]\u001b[0m\u001b[1;33m]\u001b[0m \u001b[1;33m=\u001b[0m \u001b[0mcolors\u001b[0m\u001b[1;33m[\u001b[0m\u001b[0mi\u001b[0m\u001b[1;33m[\u001b[0m\u001b[1;36m1\u001b[0m\u001b[1;33m]\u001b[0m\u001b[1;33m]\u001b[0m\u001b[1;33m\u001b[0m\u001b[1;33m\u001b[0m\u001b[0m\n\u001b[0m\u001b[0;32m      7\u001b[0m \u001b[1;33m\u001b[0m\u001b[0m\n\u001b[0;32m      8\u001b[0m \u001b[0mprint\u001b[0m\u001b[1;33m(\u001b[0m\u001b[0mgraph\u001b[0m\u001b[1;33m.\u001b[0m\u001b[0mnodes\u001b[0m\u001b[1;33m)\u001b[0m\u001b[1;33m\u001b[0m\u001b[1;33m\u001b[0m\u001b[0m\n",
      "\u001b[1;31mIndexError\u001b[0m: index 5 is out of bounds for axis 0 with size 5"
     ]
    }
   ],
   "source": [
    "colors = ['red', 'blue', 'green', 'black', 'cyan', 'orange', 'yellow', 'purple', 'olive', 'grey']\n",
    "color_map = np.empty(len(graph.nodes), dtype=object)\n",
    "\n",
    "for i in solution.sample:\n",
    "    if type(i) is tuple and solution.sample[i] > 0.5:\n",
    "        color_map[i[0]] = colors[i[1]]\n",
    "\n",
    "print(graph.nodes)\n",
    "print(color_map)\n",
    "        \n",
    "nx.draw(graph, node_color=color_map, with_labels=True)"
   ]
  },
  {
   "cell_type": "code",
   "execution_count": null,
   "metadata": {},
   "outputs": [],
   "source": []
  }
 ],
 "metadata": {
  "kernelspec": {
   "display_name": "Python 3",
   "language": "python",
   "name": "python3"
  },
  "language_info": {
   "codemirror_mode": {
    "name": "ipython",
    "version": 3
   },
   "file_extension": ".py",
   "mimetype": "text/x-python",
   "name": "python",
   "nbconvert_exporter": "python",
   "pygments_lexer": "ipython3",
   "version": "3.8.3"
  }
 },
 "nbformat": 4,
 "nbformat_minor": 4
}
