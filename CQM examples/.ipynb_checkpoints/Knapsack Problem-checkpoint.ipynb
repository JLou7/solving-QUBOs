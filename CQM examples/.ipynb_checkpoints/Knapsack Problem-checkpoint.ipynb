{
 "cells": [
  {
   "cell_type": "markdown",
   "metadata": {},
   "source": [
    "# Knapsack Problem\n",
    "Given a set of items with assigned values and weights. Fill a container such that the value in the container is maximized while still being under the weight limit\n",
    "\n",
    "Solved with CQM"
   ]
  },
  {
   "cell_type": "code",
   "execution_count": 1,
   "metadata": {},
   "outputs": [],
   "source": [
    "# import necessary things\n",
    "import time\n",
    "import dimod\n",
    "\n",
    "import numpy as np\n",
    "import numpy.random as random\n",
    "\n",
    "from dwave.system import LeapHybridCQMSampler"
   ]
  },
  {
   "cell_type": "markdown",
   "metadata": {},
   "source": [
    "## Generate set of items and weights and set weight limit"
   ]
  },
  {
   "cell_type": "code",
   "execution_count": 2,
   "metadata": {},
   "outputs": [
    {
     "name": "stdout",
     "output_type": "stream",
     "text": [
      "values:  [1 1 2 5 7 6 7 7 6 3]\n",
      "weights: [8 5 4 7 5 2 6 1 7 4]\n"
     ]
    }
   ],
   "source": [
    "# nummber of items\n",
    "n = 10\n",
    "\n",
    "# weight limit\n",
    "W = 30\n",
    "\n",
    "# generate arrays for values and weights\n",
    "random.seed(50)\n",
    "values = random.randint(1,10,n)\n",
    "weights = random.randint(1,10,n)\n",
    "\n",
    "print('values: ', values)\n",
    "print('weights:', weights)"
   ]
  },
  {
   "cell_type": "markdown",
   "metadata": {},
   "source": [
    "## Build CQM"
   ]
  },
  {
   "cell_type": "code",
   "execution_count": 3,
   "metadata": {},
   "outputs": [
    {
     "name": "stdout",
     "output_type": "stream",
     "text": [
      "objective: -v0 - v1 - 2*v2 - 5*v3 - 7*v4 - 6*v5 - 7*v6 - 7*v7 - 6*v8 - 3*v9\n",
      "weight constraint: 8*v0 + 5*v1 + 4*v2 + 7*v3 + 5*v4 + 2*v5 + 6*v6 + v7 + 7*v8 + 4*v9 <= 30\n"
     ]
    }
   ],
   "source": [
    "cqm = dimod.ConstrainedQuadraticModel()\n",
    "\n",
    "# build variables\n",
    "# binary variable x_i for if item i is packed or not\n",
    "x = [dimod.Binary(i) for i in range(n)]\n",
    "\n",
    "# set objective\n",
    "cqm.set_objective(-np.dot(values,x))\n",
    "print('objective:',cqm.objective.to_polystring())\n",
    "\n",
    "# set weight constraint\n",
    "cqm.add_constraint(np.dot(weights,x)<=W, label='weight constraint')\n",
    "print('weight constraint:',cqm.constraints['weight constraint'])"
   ]
  },
  {
   "cell_type": "markdown",
   "metadata": {},
   "source": [
    "### Check problem requirements (time, vars, constraints)"
   ]
  },
  {
   "cell_type": "code",
   "execution_count": 4,
   "metadata": {},
   "outputs": [
    {
     "name": "stdout",
     "output_type": "stream",
     "text": [
      "time required: 5\n",
      "num vars: 10\n",
      "num constraints: 1\n"
     ]
    }
   ],
   "source": [
    "sampler = LeapHybridCQMSampler()\n",
    "print(\"time required:\",sampler.min_time_limit(cqm))\n",
    "print(\"num vars:\",len(cqm.variables))\n",
    "print(\"num constraints:\",len(cqm.constraints))"
   ]
  },
  {
   "cell_type": "markdown",
   "metadata": {},
   "source": [
    "## Sample and solve"
   ]
  },
  {
   "cell_type": "code",
   "execution_count": 5,
   "metadata": {
    "scrolled": true
   },
   "outputs": [
    {
     "name": "stdout",
     "output_type": "stream",
     "text": [
      "Solved in 12.19 seconds\n",
      "Sample(sample={0: 0.0, 1: 0.0, 2: 0.0, 3: 1.0, 4: 1.0, 5: 1.0, 6: 1.0, 7: 1.0, 8: 1.0, 9: 0.0}, energy=-38.0, num_occurrences=1, is_feasible=True, is_satisfied=array([ True]))\n"
     ]
    }
   ],
   "source": [
    "start = time.time()\n",
    "# run hybrid solver\n",
    "sampler = LeapHybridCQMSampler()\n",
    "sampleset = sampler.sample_cqm(cqm, label='CQM Knapsack')\n",
    "feasible_sampleset = sampleset.filter(lambda row: row.is_feasible)\n",
    "elapsed = time.time() - start\n",
    "print(\"Solved in %.2f seconds\" % elapsed)\n",
    "\n",
    "try:\n",
    "    sample = feasible_sampleset.first.sample\n",
    "    solution = feasible_sampleset.first\n",
    "    print(solution)\n",
    "except:\n",
    "    print(\"\\nNo feasible solutions found\")"
   ]
  },
  {
   "cell_type": "code",
   "execution_count": 6,
   "metadata": {
    "scrolled": true
   },
   "outputs": [
    {
     "name": "stdout",
     "output_type": "stream",
     "text": [
      "solution: {0: 0.0, 1: 0.0, 2: 0.0, 3: 1.0, 4: 1.0, 5: 1.0, 6: 1.0, 7: 1.0, 8: 1.0, 9: 0.0}\n",
      "objective function value: -38.0\n"
     ]
    }
   ],
   "source": [
    "soln = list(solution.sample.values())\n",
    "obj_val = solution.energy\n",
    "print(\"solution:\",solution.sample)\n",
    "print(\"objective function value:\",obj_val)"
   ]
  },
  {
   "cell_type": "code",
   "execution_count": 7,
   "metadata": {},
   "outputs": [
    {
     "name": "stdout",
     "output_type": "stream",
     "text": [
      "value: 38.0\n",
      "weight: 28.0\n"
     ]
    }
   ],
   "source": [
    "soln_vals = list(sample.values())\n",
    "print('value:',np.dot(values,soln_vals))\n",
    "print('weight:',np.dot(weights,soln_vals))"
   ]
  },
  {
   "cell_type": "markdown",
   "metadata": {},
   "source": [
    "## Solve Classically"
   ]
  },
  {
   "cell_type": "code",
   "execution_count": 8,
   "metadata": {},
   "outputs": [],
   "source": [
    "# build bqm\n",
    "P = 10\n",
    "\n",
    "# value objective\n",
    "H = 0\n",
    "for i in range(len(x)):\n",
    "    H -= values[i]*x[i]\n",
    "\n",
    "# slack vars\n",
    "s = [dimod.Binary(f's{i}') for i in range(4)]\n",
    "sw = [2**i for i in range(4)]\n",
    "\n",
    "# weight constraint\n",
    "H += P*(W - np.dot(weights,x) - np.dot(sw,s))**2"
   ]
  },
  {
   "cell_type": "code",
   "execution_count": 9,
   "metadata": {
    "scrolled": true
   },
   "outputs": [
    {
     "name": "stdout",
     "output_type": "stream",
     "text": [
      "Solved in 0.03 seconds\n",
      "Sample(sample={0: 0, 1: 0, 2: 1, 3: 0, 4: 1, 5: 1, 6: 1, 7: 1, 8: 1, 9: 1, 's0': 1, 's1': 0, 's2': 0, 's3': 0}, energy=-38.0, num_occurrences=1)\n"
     ]
    }
   ],
   "source": [
    "sampler = dimod.ExactSolver()\n",
    "\n",
    "start = time.time()\n",
    "response = sampler.sample(H)\n",
    "elapsed = time.time() - start\n",
    "print(\"Solved in %.2f seconds\" % elapsed)\n",
    "print(response.first)"
   ]
  },
  {
   "cell_type": "code",
   "execution_count": 10,
   "metadata": {},
   "outputs": [
    {
     "name": "stdout",
     "output_type": "stream",
     "text": [
      "value: 38\n",
      "weight: 29\n"
     ]
    }
   ],
   "source": [
    "soln_vals1 = list(response.first.sample.values())\n",
    "\n",
    "value = 0\n",
    "weight = 0\n",
    "for i in range(len(x)):\n",
    "    value += soln_vals1[i]*values[i]\n",
    "    weight += soln_vals1[i]*weights[i]\n",
    "print('value:',value)\n",
    "print('weight:',weight)"
   ]
  },
  {
   "cell_type": "code",
   "execution_count": null,
   "metadata": {},
   "outputs": [],
   "source": []
  }
 ],
 "metadata": {
  "kernelspec": {
   "display_name": "Python 3",
   "language": "python",
   "name": "python3"
  },
  "language_info": {
   "codemirror_mode": {
    "name": "ipython",
    "version": 3
   },
   "file_extension": ".py",
   "mimetype": "text/x-python",
   "name": "python",
   "nbconvert_exporter": "python",
   "pygments_lexer": "ipython3",
   "version": "3.8.3"
  }
 },
 "nbformat": 4,
 "nbformat_minor": 4
}
