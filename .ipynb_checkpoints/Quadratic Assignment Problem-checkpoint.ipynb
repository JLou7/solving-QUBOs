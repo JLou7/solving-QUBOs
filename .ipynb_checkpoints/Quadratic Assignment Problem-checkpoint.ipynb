{
 "cells": [
  {
   "cell_type": "markdown",
   "metadata": {},
   "source": [
    "# Quadratic Assignment Problem\n",
    "Given $n$ facilities, $n$ locations, a flow matrix $f$, and a distance matrix $d$, find an assignment of facilities to locations that minimizes the weighted flow across the system"
   ]
  },
  {
   "cell_type": "code",
   "execution_count": 1,
   "metadata": {},
   "outputs": [],
   "source": [
    "# import necessary things\n",
    "import time\n",
    "import dimod\n",
    "\n",
    "import numpy as np\n",
    "\n",
    "from dwave.system import LeapHybridCQMSampler"
   ]
  },
  {
   "cell_type": "markdown",
   "metadata": {},
   "source": [
    "## Problem Setup\n",
    "Will be solving example from Glover's tutorial using CQM\n",
    "\n",
    "$n=3$ locations and facilities\n",
    "\n",
    "flow matrix: $\\begin{bmatrix} 0 & 5 & 2 \\\\\n",
    "                              5 & 0 & 3 \\\\\n",
    "                              2 & 3 & 0 \\end{bmatrix}$\n",
    "distance matrix: $\\begin{bmatrix} 0 & 8 & 15 \\\\\n",
    "                                  8 & 0 & 13 \\\\\n",
    "                                  15 & 13 & 0 \\end{bmatrix}$"
   ]
  },
  {
   "cell_type": "code",
   "execution_count": 2,
   "metadata": {},
   "outputs": [
    {
     "name": "stdout",
     "output_type": "stream",
     "text": [
      "n=3\n",
      "\n",
      "flow=\n",
      "[[0 5 2]\n",
      " [5 0 3]\n",
      " [2 3 0]]\n",
      "\n",
      "distance=\n",
      "[[ 0  8 15]\n",
      " [ 8  0 13]\n",
      " [15 13  0]]\n"
     ]
    }
   ],
   "source": [
    "n = 3\n",
    "\n",
    "f = np.array([[0, 5, 2],\n",
    "                 [5, 0, 3],\n",
    "                 [2, 3, 0]])\n",
    "\n",
    "d = np.array([[0, 8, 15],\n",
    "                     [8, 0, 13],\n",
    "                     [15, 13, 0]])\n",
    "\n",
    "print(f'n={n}\\n')\n",
    "print(f'flow=\\n{f}\\n')\n",
    "print(f'distance=\\n{d}')"
   ]
  },
  {
   "cell_type": "markdown",
   "metadata": {},
   "source": [
    "## Build CQM\n",
    "### set objective"
   ]
  },
  {
   "cell_type": "code",
   "execution_count": 3,
   "metadata": {},
   "outputs": [
    {
     "name": "stdout",
     "output_type": "stream",
     "text": [
      "80*v(0, 1)*v(1, 0) + 150*v(0, 2)*v(1, 0) + 80*v(0, 0)*v(1, 1) + 130*v(0, 2)*v(1, 1) + 150*v(0, 0)*v(1, 2) + 130*v(0, 1)*v(1, 2) + 32*v(0, 1)*v(2, 0) + 60*v(0, 2)*v(2, 0) + 48*v(1, 1)*v(2, 0) + 90*v(1, 2)*v(2, 0) + 32*v(0, 0)*v(2, 1) + 52*v(0, 2)*v(2, 1) + 48*v(1, 0)*v(2, 1) + 78*v(1, 2)*v(2, 1) + 60*v(0, 0)*v(2, 2) + 52*v(0, 1)*v(2, 2) + 90*v(1, 0)*v(2, 2) + 78*v(1, 1)*v(2, 2)\n"
     ]
    }
   ],
   "source": [
    "# instantiate\n",
    "cqm = dimod.ConstrainedQuadraticModel()\n",
    "\n",
    "# build variables\n",
    "# x_ij == 1 if facility i is assigned to location j\n",
    "x = [[dimod.Binary((i,j)) for j in range(n)] for i in range(n)]\n",
    "\n",
    "# set objective\n",
    "obj = 0\n",
    "for i in range(n):\n",
    "    for j in range(n):\n",
    "        for k in range(n):\n",
    "            for l in range(n):\n",
    "                obj += f[i][j]*d[k][l]*x[i][k]*x[j][l]\n",
    "cqm.set_objective(obj)\n",
    "print(cqm.objective.to_polystring())"
   ]
  },
  {
   "cell_type": "markdown",
   "metadata": {},
   "source": [
    "### set constraints\n",
    "\n"
   ]
  },
  {
   "cell_type": "code",
   "execution_count": 4,
   "metadata": {},
   "outputs": [
    {
     "name": "stdout",
     "output_type": "stream",
     "text": [
      "v(0, 0) + v(0, 1) + v(0, 2) == 1\n",
      "v(1, 0) + v(1, 1) + v(1, 2) == 1\n",
      "v(2, 0) + v(2, 1) + v(2, 2) == 1\n",
      "v(0, 0) + v(1, 0) + v(2, 0) == 1\n",
      "v(0, 1) + v(1, 1) + v(2, 1) == 1\n",
      "v(0, 2) + v(1, 2) + v(2, 2) == 1\n"
     ]
    }
   ],
   "source": [
    "# each facility can only map to one location\n",
    "for i in range(n):\n",
    "    constr = 0\n",
    "    for j in range(n):\n",
    "        constr += x[i][j]\n",
    "    cqm.add_constraint(constr==1)\n",
    "    \n",
    "# each location can only have one facility\n",
    "for j in range(n):\n",
    "    constr = 0\n",
    "    for i in range(n):\n",
    "        constr += x[i][j]\n",
    "    cqm.add_constraint(constr==1)\n",
    "    \n",
    "for i in cqm.constraints:\n",
    "    print(cqm.constraints[i])"
   ]
  },
  {
   "cell_type": "markdown",
   "metadata": {},
   "source": [
    "## Sample and solve"
   ]
  },
  {
   "cell_type": "code",
   "execution_count": 7,
   "metadata": {},
   "outputs": [
    {
     "name": "stdout",
     "output_type": "stream",
     "text": [
      "Solved in 12.44 seconds\n",
      "Sample(sample={(0, 0): 1.0, (0, 1): 0.0, (0, 2): 0.0, (1, 0): 0.0, (1, 1): 1.0, (1, 2): 0.0, (2, 0): 0.0, (2, 1): 0.0, (2, 2): 1.0}, energy=218.0, num_occurrences=1, is_feasible=True, is_satisfied=array([ True,  True,  True,  True,  True,  True]))\n"
     ]
    }
   ],
   "source": [
    "start = time.time()\n",
    "# run hybrid solver\n",
    "sampler = LeapHybridCQMSampler()\n",
    "sampleset = sampler.sample_cqm(cqm, label='CQM QAP')\n",
    "feasible_sampleset = sampleset.filter(lambda row: row.is_feasible)\n",
    "elapsed = time.time() - start\n",
    "print(\"Solved in %.2f seconds\" % elapsed)\n",
    "\n",
    "try:\n",
    "    sample = feasible_sampleset.first.sample\n",
    "    solution = feasible_sampleset.first\n",
    "    print(solution)\n",
    "except:\n",
    "    print(\"\\nNo feasible solutions found\")"
   ]
  },
  {
   "cell_type": "code",
   "execution_count": 45,
   "metadata": {},
   "outputs": [
    {
     "name": "stdout",
     "output_type": "stream",
     "text": [
      "solution: {(0, 0): 1.0, (0, 1): 0.0, (0, 2): 0.0, (1, 0): 0.0, (1, 1): 1.0, (1, 2): 0.0, (2, 0): 0.0, (2, 1): 0.0, (2, 2): 1.0}\n",
      "objective function value: 218.0\n"
     ]
    }
   ],
   "source": [
    "soln = list(solution.sample.values())\n",
    "obj_val = solution.energy\n",
    "print(\"solution:\",solution.sample)\n",
    "print(\"objective function value:\",obj_val)"
   ]
  },
  {
   "cell_type": "code",
   "execution_count": null,
   "metadata": {},
   "outputs": [],
   "source": []
  }
 ],
 "metadata": {
  "kernelspec": {
   "display_name": "Python 3",
   "language": "python",
   "name": "python3"
  },
  "language_info": {
   "codemirror_mode": {
    "name": "ipython",
    "version": 3
   },
   "file_extension": ".py",
   "mimetype": "text/x-python",
   "name": "python",
   "nbconvert_exporter": "python",
   "pygments_lexer": "ipython3",
   "version": "3.8.3"
  }
 },
 "nbformat": 4,
 "nbformat_minor": 4
}
