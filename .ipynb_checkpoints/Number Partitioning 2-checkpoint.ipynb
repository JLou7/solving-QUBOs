{
 "cells": [
  {
   "cell_type": "markdown",
   "metadata": {},
   "source": [
    "# Number Partitioning 2\n",
    "Solve the number partitioning problem using DWave's QUBO generator\n",
    "\n",
    "Given a set of numbers, partition the set into 2 subsets such that the 2 sums are as close as possible"
   ]
  },
  {
   "cell_type": "code",
   "execution_count": 116,
   "metadata": {},
   "outputs": [],
   "source": [
    "import dimod\n",
    "\n",
    "import pyqubo\n",
    "from pyqubo import Spin, Binary, Constraint\n",
    "\n",
    "from dwave.system.samplers import DWaveSampler\n",
    "from dwave.system.composites import LazyEmbeddingComposite\n",
    "\n",
    "import numpy as np\n",
    "import numpy.random as random\n",
    "\n",
    "import time"
   ]
  },
  {
   "cell_type": "markdown",
   "metadata": {},
   "source": [
    "## Function for solving QUBO\n",
    "Given a hamiltonian $H$ in QUBO form, solve for lowest energy solution"
   ]
  },
  {
   "cell_type": "code",
   "execution_count": 132,
   "metadata": {},
   "outputs": [],
   "source": [
    "def qdict_to_matrix(qubo,qubits):\n",
    "    Q = np.zeros([len(qubits),len(qubits)])\n",
    "    for (i,j) in qubo:\n",
    "        x = int(i[1:i.find('.')])\n",
    "        y = int(j[1:i.find('.')])\n",
    "        Q[x,y] = qubo[(i,j)]\n",
    "    return Q\n",
    "\n",
    "def solve_qubo(H,\n",
    "               qubits,\n",
    "               sampler=\"CPU\", # CPU or QPU\n",
    "               k=10,\n",
    "               chain_strength=None):\n",
    "    \"\"\"\n",
    "    Given a hamiltonian, solves the quadratic unconstrained binary\n",
    "    optimization (QUBO) problem given by\n",
    "    \n",
    "        minimize sum(x[i] * Q[i,j] * x[j]\n",
    "                     for i in range(N),\n",
    "                     for j in range(i+1, N))\n",
    "    \n",
    "    Uses compile() to convert the hamiltonian into matrix (dictionary) form.\n",
    "    dimod.SimulatedAnnealingSampler is then used, which solves the problem k times through simulated\n",
    "    annealing (on a regular CPU). This method returns the best solution found.\n",
    "    \"\"\"\n",
    "    assert sampler in [\"CPU\", \"QPU\"]\n",
    "    \n",
    "    model = H.compile()\n",
    "    qubo, offset = model.to_qubo()\n",
    "    bqm = dimod.BinaryQuadraticModel.from_qubo(qubo,offset=offset)\n",
    "    \n",
    "    Q = qdict_to_matrix(qubo)\n",
    "    n = Q.shape[0]\n",
    "    nz = len(Q[Q!=0])\n",
    "    print(\"Solving QUBO problem (%d vars, %d nz) on %s...\" % (n, nz, sampler))\n",
    "    \n",
    "    start = time.time()\n",
    "    \n",
    "    if sampler == \"CPU\":\n",
    "        sampler = dimod.SimulatedAnnealingSampler()\n",
    "        response = sampler.sample(bqm, num_reads=k)\n",
    "    else:\n",
    "        if chain_strength is None:\n",
    "            chain_strength = int(10 * max(qubo.values()))\n",
    "        sampler = LazyEmbeddingComposite(DWaveSampler(solver=\"Advantage_system6.1\"))\n",
    "        response = sampler.sample(bqm, num_reads=k, chain_strength=chain_strength)\n",
    "        \n",
    "    elapsed = time.time() - start\n",
    "    \n",
    "    print(\"Solved in %.2f seconds\" % elapsed)\n",
    "    solution = min(response.data([\"sample\", \"energy\"]), key=lambda s: s.energy)\n",
    "    return solution, response"
   ]
  },
  {
   "cell_type": "code",
   "execution_count": 126,
   "metadata": {},
   "outputs": [
    {
     "name": "stdout",
     "output_type": "stream",
     "text": [
      "[[-608.  192.  224.  192.  192.   32.  128.   96.  160.    0.]\n",
      " [   0. -864.  336.  288.  288.   48.  192.  144.  240.    0.]\n",
      " [   0.    0. -980.  336.  336.   56.  224.  168.  280.    0.]\n",
      " [   0.    0.    0. -864.  288.   48.  192.  144.  240.    0.]\n",
      " [   0.    0.    0.    0. -864.   48.  192.  144.  240.    0.]\n",
      " [   0.    0.    0.    0.    0. -164.   32.   24.   40.    0.]\n",
      " [   0.    0.    0.    0.    0.    0. -608.   96.  160.    0.]\n",
      " [   0.    0.    0.    0.    0.    0.    0. -468.  120.    0.]\n",
      " [   0.    0.    0.    0.    0.    0.    0.    0. -740.    0.]\n",
      " [   0.    0.    0.    0.    0.    0.    0.    0.    0.    0.]]\n"
     ]
    }
   ],
   "source": [
    "# define spins/binary vars\n",
    "spins = []\n",
    "for i in range(len(S)):\n",
    "    spins.append(Binary(f'x{i}.{S[i]}'))\n",
    "\n",
    "# sum set S\n",
    "c = np.sum(S)\n",
    "\n",
    "# define hamiltonian\n",
    "sumSx = 0\n",
    "for i in range(len(spins)):\n",
    "    sumSx += spins[i]*S[i]\n",
    "    \n",
    "H = (c-2*sumSx)**2\n",
    "model = H.compile()\n",
    "qubo, offset = model.to_qubo()\n",
    "\n",
    "Q = qdict_to_matrix(qubo,spins)\n",
    "print(Q)"
   ]
  },
  {
   "cell_type": "markdown",
   "metadata": {},
   "source": [
    "## Create set of integers"
   ]
  },
  {
   "cell_type": "code",
   "execution_count": 109,
   "metadata": {},
   "outputs": [
    {
     "name": "stdout",
     "output_type": "stream",
     "text": [
      "[4 6 7 6 6 1 4 3 5 0]\n"
     ]
    }
   ],
   "source": [
    "n = 10\n",
    "random.seed(64)\n",
    "S = random.randint(11,size=(n))\n",
    "print(S)"
   ]
  },
  {
   "cell_type": "markdown",
   "metadata": {},
   "source": [
    "## Define hamiltonian\n",
    "We want to minimize the difference between the sum of each set\n",
    "\n",
    "diff$^2=(c-2\\sum_js_jx_j)^2$\n",
    "\n",
    "Where $c$ is the sum of all the elements in the set $S$"
   ]
  },
  {
   "cell_type": "code",
   "execution_count": 110,
   "metadata": {},
   "outputs": [],
   "source": [
    "# define spins/binary vars\n",
    "spins = []\n",
    "for i in range(len(S)):\n",
    "    spins.append(Binary(f'x{i}.{S[i]}'))\n",
    "\n",
    "# sum set S\n",
    "c = np.sum(S)\n",
    "\n",
    "# define hamiltonian\n",
    "sumSx = 0\n",
    "for i in range(len(spins)):\n",
    "    sumSx += spins[i]*S[i]\n",
    "    \n",
    "H = (c-2*sumSx)**2"
   ]
  },
  {
   "cell_type": "markdown",
   "metadata": {},
   "source": [
    "## Solve on CPU"
   ]
  },
  {
   "cell_type": "code",
   "execution_count": 114,
   "metadata": {},
   "outputs": [
    {
     "name": "stdout",
     "output_type": "stream",
     "text": [
      "Solving QUBO problem (10 vars, 0 nz) on CPU...\n",
      "Solved in 0.61 seconds\n",
      "  x0.4 x1.6 x2.7 x3.6 x4.6 x5.1 x6.4 x7.3 x8.5 energy num_oc.\n",
      "0    1    1    1    0    0    1    0    1    0    0.0       1\n",
      "3    1    1    0    0    1    0    0    0    1    0.0       1\n",
      "7    1    0    1    1    0    1    0    1    0    0.0       1\n",
      "9    1    1    1    0    0    0    1    0    0    0.0       1\n",
      "1    1    1    0    0    0    0    1    1    1    4.0       1\n",
      "2    0    0    0    1    1    1    1    1    0    4.0       1\n",
      "4    1    1    1    0    0    0    0    0    1    4.0       1\n",
      "5    0    0    1    1    1    1    0    0    0    4.0       1\n",
      "6    1    0    0    0    1    1    1    0    1    4.0       1\n",
      "8    1    1    0    0    0    1    1    0    1    4.0       1\n",
      "['BINARY', 10 rows, 10 samples, 9 variables]\n",
      "\n",
      "S: [4 6 7 6 6 1 4 3 5 0]\n",
      "S0: [4, 6, 7, 1, 3]\n",
      "S1: [6, 6, 4, 5]\n",
      "\n",
      "sum(S0)       21\n",
      "sum(S1)       21\n"
     ]
    }
   ],
   "source": [
    "k=10\n",
    "# solve problem\n",
    "solution1, response1 = solve_qubo(H,spins,\"CPU\",k)\n",
    "\n",
    "# display result\n",
    "print(response1)\n",
    "# for smple, energy, num_occ in response.data(['sample','energy','num_occurrences']):\n",
    "#     print(num_occ)\n",
    "\n",
    "# display sums\n",
    "print(\"\")\n",
    "S0 = [int(j[j.find('.')+1:]) for (j, xi) in solution1.sample.items() if xi >  0.5]\n",
    "S1 = [int(j[j.index('.')+1:]) for (j, xi) in solution1.sample.items() if xi <= 0.5]\n",
    "\n",
    "print('S:', S)\n",
    "print('S0:',S0)\n",
    "print('S1:',S1)\n",
    "\n",
    "print(\"\")\n",
    "\n",
    "print(\"sum(S0) %8d\" % sum(S0))\n",
    "print(\"sum(S1) %8d\" % sum(S1))"
   ]
  },
  {
   "cell_type": "markdown",
   "metadata": {},
   "source": [
    "## Solve on QPU"
   ]
  },
  {
   "cell_type": "code",
   "execution_count": 134,
   "metadata": {
    "scrolled": true
   },
   "outputs": [
    {
     "name": "stdout",
     "output_type": "stream",
     "text": [
      "Solving QUBO problem (10 vars, 22 nz) on QPU...\n",
      "Solved in 1.21 seconds\n",
      "   x0.4 x1.6 x2.7 x3.6 x4.6 x5.1 x6.4 x7.3 x8.5 energy num_oc. chain_.\n",
      "0     1    0    1    0    0    1    1    0    1    0.0       1     0.0\n",
      "1     1    1    0    0    1    1    1    0    0    0.0       1     0.0\n",
      "2     1    0    1    0    0    0    1    0    1    4.0       1     0.0\n",
      "3     1    1    0    0    1    1    0    1    0    4.0       1     0.0\n",
      "4     0    1    0    1    0    0    0    1    1    4.0       1     0.0\n",
      "5     1    0    1    1    0    0    0    1    0    4.0       1     0.0\n",
      "6     0    0    1    1    0    0    1    0    1    4.0       1     0.0\n",
      "7     1    0    1    1    0    1    1    0    0    4.0       2     0.0\n",
      "8     1    1    0    0    0    0    1    1    1    4.0       1     0.0\n",
      "9     1    0    0    1    0    1    1    0    1    4.0       1     0.0\n",
      "10    0    0    1    0    0    1    1    1    1    4.0       2     0.0\n",
      "11    0    1    1    1    0    1    0    1    0   16.0       1     0.0\n",
      "12    0    1    1    0    0    1    1    0    1   16.0       2     0.0\n",
      "13    1    0    1    0    0    0    0    1    1   16.0       1     0.0\n",
      "14    0    0    0    1    0    1    1    1    1   16.0       1     0.0\n",
      "15    1    0    1    0    0    0    1    1    1   16.0       1     0.0\n",
      "16    1    1    0    0    0    0    1    0    1   16.0       1     0.0\n",
      "17    0    0    1    1    0    1    0    0    1   16.0       1     0.0\n",
      "18    0    0    1    1    1    0    1    0    0   16.0       1     0.0\n",
      "19    1    0    1    1    0    1    0    0    1   16.0       3     0.0\n",
      "20    1    0    0    1    0    0    1    0    1   16.0       2     0.0\n",
      "21    0    0    0    1    1    0    1    1    1   36.0       1     0.0\n",
      "22    0    0    1    1    1    1    1    0    0   36.0       1     0.0\n",
      "23    1    1    1    0    1    1    0    0    0   36.0       1     0.0\n",
      "24    0    0    1    1    0    0    0    0    1   36.0       1     0.0\n",
      "25    1    1    0    1    0    1    1    1    0   36.0       1     0.0\n",
      "26    1    1    1    0    0    0    1    1    0   36.0       1     0.0\n",
      "27    0    1    0    1    1    1    0    0    1   36.0       1     0.0\n",
      "28    1    1    1    0    0    1    0    0    0   36.0       1     0.0\n",
      "29    0    1    1    1    0    0    0    0    1   36.0       1     0.0\n",
      "30    1    0    1    0    0    1    1    1    1   36.0       1     0.0\n",
      "31    0    0    1    1    0    1    1    0    0   36.0       2     0.0\n",
      "32    0    1    0    1    0    1    1    1    1   64.0       1     0.0\n",
      "33    1    0    0    1    1    1    0    0    0   64.0       1     0.0\n",
      "34    0    1    1    0    0    0    1    0    0   64.0       3     0.0\n",
      "35    0    0    1    0    1    0    1    1    1   64.0       1     0.0\n",
      "36    1    1    1    0    0    0    0    0    0   64.0       1     0.0\n",
      "37    1    0    0    0    0    1    1    1    1   64.0       1     0.0\n",
      "38    0    0    1    1    1    1    0    0    1   64.0       1     0.0\n",
      "39    0    0    1    0    0    1    1    0    1   64.0       1     0.0\n",
      "40    0    1    0    1    0    0    0    0    1   64.0       1     0.0\n",
      "41    1    0    1    1    0    0    0    0    0   64.0       1     0.0\n",
      "42    0    1    1    0    0    0    0    1    0  100.0       1     0.0\n",
      "43    0    0    1    0    1    1    1    1    1  100.0       1     0.0\n",
      "44    0    1    1    0    0    1    1    1    1  100.0       1     0.0\n",
      "45    0    0    1    1    0    1    1    1    1  100.0       1     0.0\n",
      "46    0    1    0    0    0    1    1    0    1  100.0       1     0.0\n",
      "47    1    0    1    1    0    0    1    0    1  100.0       2     0.0\n",
      "48    1    0    0    1    0    1    0    0    1  100.0       1     0.0\n",
      "49    1    0    1    0    0    0    1    0    0  144.0       1     0.0\n",
      "50    0    0    0    1    0    0    1    0    1  144.0       2     0.0\n",
      "51    1    0    1    0    0    1    0    1    0  144.0       1     0.0\n",
      "52    0    1    1    1    0    1    1    1    0  144.0       1     0.0\n",
      "53    1    0    0    1    0    0    0    0    1  144.0       1     0.0\n",
      "54    1    1    1    1    0    0    1    0    0  144.0       2     0.0\n",
      "55    1    0    0    0    0    1    1    0    1  196.0       1     0.0\n",
      "56    1    0    1    0    0    0    0    1    0  196.0       1     0.0\n",
      "57    1    0    1    1    1    1    1    0    0  196.0       3     0.0\n",
      "58    1    1    0    1    0    0    1    1    1  196.0       1     0.0\n",
      "59    0    0    0    0    1    1    1    1    0  196.0       1     0.0\n",
      "60    0    0    0    1    0    1    1    1    0  196.0       1     0.0\n",
      "61    0    1    0    0    0    0    0    1    1  196.0       1     0.0\n",
      "62    0    0    1    0    1    1    0    0    0  196.0       1     0.0\n",
      "63    1    0    0    1    1    1    1    1    1  256.0       1     0.0\n",
      "64    1    0    1    1    1    1    0    0    1  256.0       1     0.0\n",
      "65    1    1    1    1    0    1    0    0    1  256.0       1     0.0\n",
      "66    0    0    0    1    1    1    0    0    0  256.0       1     0.0\n",
      "67    0    0    1    1    0    0    0    0    0  256.0       3     0.0\n",
      "68    0    0    0    0    0    1    1    1    1  256.0       1     0.0\n",
      "69    0    1    0    0    0    1    0    0    1  324.0       1     0.0\n",
      "70    0    0    0    0    0    0    1    1    1  324.0       1     0.0\n",
      "71    1    0    1    0    0    1    0    0    0  324.0       2     0.0\n",
      "72    1    0    0    0    0    1    1    1    0  324.0       1     0.0\n",
      "73    0    0    1    0    0    0    1    0    0  400.0       1     0.0\n",
      "74    0    0    0    0    1    1    1    0    0  400.0       1     0.0\n",
      "75    1    1    1    1    0    1    0    1    1  484.0       1     0.0\n",
      "76    0    1    1    1    0    1    1    1    1  484.0       2     0.0\n",
      "77    1    0    0    1    0    0    0    0    0  484.0       1     0.0\n",
      "78    1    1    0    0    0    0    0    0    0  484.0       1     0.0\n",
      "79    0    0    0    0    0    1    1    1    0  676.0       1     0.0\n",
      "80    1    1    1    1    0    0    1    1    1  784.0       1     0.0\n",
      "81    0    0    0    1    0    1    0    0    0  784.0       1     0.0\n",
      "['BINARY', 82 rows, 100 samples, 9 variables]\n",
      "\n",
      "S: [4 6 7 6 6 1 4 3 5 0]\n",
      "S0: [4, 7, 1, 4, 5]\n",
      "S1: [6, 6, 6, 3]\n",
      "\n",
      "sum(S0)       21\n",
      "sum(S1)       21\n"
     ]
    }
   ],
   "source": [
    "k=100\n",
    "# solve problem\n",
    "solution1, response1 = solve_qubo(H,spins,\"QPU\",k)\n",
    "\n",
    "# display result\n",
    "print(response1)\n",
    "# for smple, energy, num_occ in response.data(['sample','energy','num_occurrences']):\n",
    "#     print(num_occ)\n",
    "\n",
    "# display sums\n",
    "print(\"\")\n",
    "S0 = [int(j[j.find('.')+1:]) for (j, xi) in solution1.sample.items() if xi >  0.5]\n",
    "S1 = [int(j[j.index('.')+1:]) for (j, xi) in solution1.sample.items() if xi <= 0.5]\n",
    "\n",
    "print('S:', S)\n",
    "print('S0:',S0)\n",
    "print('S1:',S1)\n",
    "\n",
    "print(\"\")\n",
    "\n",
    "print(\"sum(S0) %8d\" % sum(S0))\n",
    "print(\"sum(S1) %8d\" % sum(S1))"
   ]
  },
  {
   "cell_type": "code",
   "execution_count": null,
   "metadata": {},
   "outputs": [],
   "source": []
  }
 ],
 "metadata": {
  "kernelspec": {
   "display_name": "Python 3",
   "language": "python",
   "name": "python3"
  },
  "language_info": {
   "codemirror_mode": {
    "name": "ipython",
    "version": 3
   },
   "file_extension": ".py",
   "mimetype": "text/x-python",
   "name": "python",
   "nbconvert_exporter": "python",
   "pygments_lexer": "ipython3",
   "version": "3.8.3"
  }
 },
 "nbformat": 4,
 "nbformat_minor": 4
}
