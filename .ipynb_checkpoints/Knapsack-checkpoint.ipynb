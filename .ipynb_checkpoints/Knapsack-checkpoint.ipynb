{
 "cells": [
  {
   "cell_type": "markdown",
   "metadata": {},
   "source": [
    "# Knapsack Problem\n",
    "Given a set of items with assigned values and weights. Fill a container such that the value in the container is maximized while still being under the weight limit\n",
    "\n",
    "Solved with BQM"
   ]
  },
  {
   "cell_type": "code",
   "execution_count": 17,
   "metadata": {},
   "outputs": [],
   "source": [
    "# import necessary things\n",
    "import time\n",
    "import dimod\n",
    "\n",
    "import numpy as np\n",
    "import numpy.random as random\n",
    "\n",
    "from pyqubo import Binary, Constraint\n",
    "\n",
    "from dwave.system import DWaveSampler, AutoEmbeddingComposite"
   ]
  },
  {
   "cell_type": "markdown",
   "metadata": {},
   "source": [
    "## Generate set of items and weights and set weight limit"
   ]
  },
  {
   "cell_type": "code",
   "execution_count": 2,
   "metadata": {},
   "outputs": [
    {
     "name": "stdout",
     "output_type": "stream",
     "text": [
      "values:  [1 1 2 5 7 6 7 7 6 3]\n",
      "weights: [8 5 4 7 5 2 6 1 7 4]\n"
     ]
    }
   ],
   "source": [
    "# nummber of items\n",
    "n = 10\n",
    "\n",
    "# weight limit\n",
    "W = 30\n",
    "\n",
    "# generate arrays for values and weights\n",
    "random.seed(50)\n",
    "values = random.randint(1,10,n)\n",
    "weights = random.randint(1,10,n)\n",
    "\n",
    "print('values: ', values)\n",
    "print('weights:', weights)"
   ]
  },
  {
   "cell_type": "markdown",
   "metadata": {},
   "source": [
    "## Build BQM"
   ]
  },
  {
   "cell_type": "code",
   "execution_count": 70,
   "metadata": {},
   "outputs": [],
   "source": [
    "# build bqm\n",
    "P = 1\n",
    "\n",
    "# build variables\n",
    "# binary variable x_i for if item i is packed or not\n",
    "x = [Binary(f'{i}') for i in range(n)]\n",
    "\n",
    "# value objective\n",
    "H = 0\n",
    "for i in range(len(x)):\n",
    "    H -= values[i]*x[i]\n",
    "\n",
    "# slack vars\n",
    "s = [Binary(f's{i}') for i in range(4)]\n",
    "sw = [2**i for i in range(4)]\n",
    "\n",
    "# weight constraint\n",
    "H += P*Constraint((W - np.dot(weights,x) - np.dot(sw,s))**2, label='weight constraint')\n",
    "\n",
    "model = H.compile()\n",
    "Q = model.to_bqm()"
   ]
  },
  {
   "cell_type": "markdown",
   "metadata": {},
   "source": [
    "### Check problem requirements (time, vars, constraints)"
   ]
  },
  {
   "cell_type": "code",
   "execution_count": 71,
   "metadata": {},
   "outputs": [
    {
     "name": "stdout",
     "output_type": "stream",
     "text": [
      "num vars: 14\n"
     ]
    }
   ],
   "source": [
    "sampler = DWaveSampler()\n",
    "print(\"num vars:\",len(Q.variables))"
   ]
  },
  {
   "cell_type": "markdown",
   "metadata": {},
   "source": [
    "## Sample"
   ]
  },
  {
   "cell_type": "code",
   "execution_count": 72,
   "metadata": {},
   "outputs": [
    {
     "name": "stdout",
     "output_type": "stream",
     "text": [
      "Solved in 2.48 seconds\n",
      "Sample(sample={'0': 0, '1': 0, '2': 1, '3': 1, '4': 1, '5': 1, '6': 1, '7': 1, '8': 0, '9': 1, 's0': 1, 's1': 0, 's2': 0, 's3': 0}, energy=-37.0, num_occurrences=2, chain_break_fraction=0.0)\n"
     ]
    }
   ],
   "source": [
    "start = time.time()\n",
    "# run hybrid solver\n",
    "sampler = AutoEmbeddingComposite(DWaveSampler())\n",
    "sampleset = sampler.sample(Q, num_reads=500, label='BQM Knapsack')\n",
    "elapsed = time.time() - start\n",
    "print(\"Solved in %.2f seconds\" % elapsed)\n",
    "print(sampleset.first)"
   ]
  },
  {
   "cell_type": "code",
   "execution_count": 73,
   "metadata": {},
   "outputs": [
    {
     "name": "stdout",
     "output_type": "stream",
     "text": [
      "value: 37\n",
      "weight: 29\n"
     ]
    }
   ],
   "source": [
    "soln_vals1 = list(sampleset.first.sample.values())\n",
    "\n",
    "value = 0\n",
    "weight = 0\n",
    "for i in range(len(x)):\n",
    "    value += soln_vals1[i]*values[i]\n",
    "    weight += soln_vals1[i]*weights[i]\n",
    "print('value:',value)\n",
    "print('weight:',weight)"
   ]
  },
  {
   "cell_type": "code",
   "execution_count": 74,
   "metadata": {},
   "outputs": [
    {
     "name": "stdout",
     "output_type": "stream",
     "text": [
      "{'weight constraint': (True, 0.0)}\n"
     ]
    }
   ],
   "source": [
    "dec = model.decode_sample(sampleset.first.sample, vartype='BINARY')\n",
    "print(dec.constraints())"
   ]
  },
  {
   "cell_type": "code",
   "execution_count": null,
   "metadata": {},
   "outputs": [],
   "source": []
  }
 ],
 "metadata": {
  "kernelspec": {
   "display_name": "Python 3",
   "language": "python",
   "name": "python3"
  },
  "language_info": {
   "codemirror_mode": {
    "name": "ipython",
    "version": 3
   },
   "file_extension": ".py",
   "mimetype": "text/x-python",
   "name": "python",
   "nbconvert_exporter": "python",
   "pygments_lexer": "ipython3",
   "version": "3.8.3"
  }
 },
 "nbformat": 4,
 "nbformat_minor": 4
}
