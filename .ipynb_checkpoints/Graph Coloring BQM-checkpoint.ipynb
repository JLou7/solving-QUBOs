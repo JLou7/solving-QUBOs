{
 "cells": [
  {
   "cell_type": "markdown",
   "metadata": {},
   "source": [
    "# Graph coloring problem\n",
    "Given an undirected graph and a set of colors, color the graph so that adjacent nodes are different colors"
   ]
  },
  {
   "cell_type": "code",
   "execution_count": 1,
   "metadata": {},
   "outputs": [],
   "source": [
    "# import necessary packages\n",
    "import time\n",
    "import numpy as np\n",
    "import numpy.random as random\n",
    "\n",
    "import dimod\n",
    "import networkx as nx\n",
    "\n",
    "from dwave.system import DWaveSampler, AutoEmbeddingComposite\n",
    "\n",
    "# only for QUBO/classical solver\n",
    "import pyqubo\n",
    "from pyqubo import Binary, Constraint\n",
    "\n",
    "import dwave.inspector"
   ]
  },
  {
   "cell_type": "markdown",
   "metadata": {},
   "source": [
    "## Generate graph"
   ]
  },
  {
   "cell_type": "code",
   "execution_count": 4,
   "metadata": {},
   "outputs": [
    {
     "name": "stdout",
     "output_type": "stream",
     "text": [
      "9\n"
     ]
    },
    {
     "data": {
      "image/png": "[encoded data removed]",
      "text/plain": [
       "<Figure size 432x288 with 1 Axes>"
      ]
     },
     "metadata": {},
     "output_type": "display_data"
    }
   ],
   "source": [
    "# number of colors\n",
    "num_colors = 4\n",
    "\n",
    "# generate random graph\n",
    "# number of nodes\n",
    "num_nodes = 10\n",
    "# edge generation probability\n",
    "p = 0.1\n",
    "# seed (optional)\n",
    "seed = 45\n",
    "#generate graph\n",
    "graph = nx.gnp_random_graph(num_nodes,p,seed)\n",
    "\n",
    "# draw graph\n",
    "nx.draw(graph, with_labels=True)\n",
    "\n",
    "print(len(graph.edges))\n",
    "\n",
    "# graph = nx.Graph()\n",
    "# graph.add_nodes_from([0,4])\n",
    "# graph.add_edges_from([(0,1),(0,4),(1,2),(1,3),(1,4),(2,3),(3,4)])\n",
    "\n",
    "# # graph.nodes.sort()\n",
    "# print(type(graph.nodes))\n",
    "\n",
    "# # house positions\n",
    "# pos = {0: (0.5, 2.0), 1: (1, 1), 2: (1, 0), 3: (0, 0),  4: (0, 1)}\n",
    "\n",
    "# nx.draw(graph, pos=pos, with_labels=True)"
   ]
  },
  {
   "cell_type": "markdown",
   "metadata": {},
   "source": [
    "## Build BQM"
   ]
  },
  {
   "cell_type": "code",
   "execution_count": 5,
   "metadata": {},
   "outputs": [
    {
     "name": "stdout",
     "output_type": "stream",
     "text": [
      "[[Binary('(0, 0)'), Binary('(0, 1)'), Binary('(0, 2)'), Binary('(0, 3)')], [Binary('(1, 0)'), Binary('(1, 1)'), Binary('(1, 2)'), Binary('(1, 3)')], [Binary('(2, 0)'), Binary('(2, 1)'), Binary('(2, 2)'), Binary('(2, 3)')], [Binary('(3, 0)'), Binary('(3, 1)'), Binary('(3, 2)'), Binary('(3, 3)')], [Binary('(4, 0)'), Binary('(4, 1)'), Binary('(4, 2)'), Binary('(4, 3)')], [Binary('(5, 0)'), Binary('(5, 1)'), Binary('(5, 2)'), Binary('(5, 3)')], [Binary('(6, 0)'), Binary('(6, 1)'), Binary('(6, 2)'), Binary('(6, 3)')], [Binary('(7, 0)'), Binary('(7, 1)'), Binary('(7, 2)'), Binary('(7, 3)')], [Binary('(8, 0)'), Binary('(8, 1)'), Binary('(8, 2)'), Binary('(8, 3)')], [Binary('(9, 0)'), Binary('(9, 1)'), Binary('(9, 2)'), Binary('(9, 3)')]]\n",
      "40 - 4*(2, 0) - 4*(4, 0) - 4*(8, 0) - 4*(8, 3) - 4*(0, 0) - 4*(3, 0) - 4*(3, 2) - 4*(3, 3) - 4*(6, 1) - 4*(6, 3) - 4*(6, 0) - 4*(6, 2) - 4*(0, 1) - 4*(5, 1) - 4*(4, 1) - 4*(4, 3) - 4*(7, 2) - 4*(8, 2) - 4*(3, 1) - 4*(0, 3) - 4*(9, 2) - 4*(9, 3) - 4*(2, 2) - 4*(2, 1) - 4*(4, 2) - 4*(7, 3) - 4*(1, 2) - 4*(7, 1) - 4*(0, 2) - 4*(5, 0) - 4*(1, 1) - 4*(1, 0) - 4*(5, 2) - 4*(2, 3) - 4*(9, 1) - 4*(1, 3) - 4*(8, 1) - 4*(5, 3) - 4*(9, 0) - 4*(7, 0) + 4*(2, 0)*(4, 0) + 8*(8, 0)*(8, 3) + 4*(0, 0)*(3, 0) + 8*(3, 0)*(3, 2) + 8*(3, 0)*(3, 3) + 8*(3, 2)*(3, 3) + 4*(3, 3)*(6, 3) + 8*(6, 1)*(6, 3) + 4*(0, 0)*(6, 0) + 4*(3, 0)*(6, 0) + 8*(6, 1)*(6, 0) + 8*(6, 3)*(6, 0) + 4*(3, 2)*(6, 2) + 8*(6, 1)*(6, 2) + 8*(6, 3)*(6, 2) + 8*(6, 0)*(6, 2) + 8*(0, 0)*(0, 1) + 4*(6, 1)*(0, 1) + 4*(0, 1)*(5, 1) + 8*(4, 0)*(4, 1) + 8*(4, 0)*(4, 3) + 8*(4, 1)*(4, 3) + 4*(3, 2)*(7, 2) + 4*(6, 2)*(7, 2) + 8*(8, 0)*(8, 2) + 8*(8, 3)*(8, 2) + 8*(3, 0)*(3, 1) + 8*(3, 2)*(3, 1) + 8*(3, 3)*(3, 1) + 4*(6, 1)*(3, 1) + 4*(0, 1)*(3, 1) + 8*(0, 0)*(0, 3) + 4*(3, 3)*(0, 3) + 4*(6, 3)*(0, 3) + 8*(0, 1)*(0, 3) + 4*(8, 2)*(9, 2) + 4*(8, 3)*(9, 3) + 8*(9, 2)*(9, 3) + 8*(2, 0)*(2, 2) + 8*(2, 0)*(2, 1) + 4*(4, 1)*(2, 1) + 8*(2, 2)*(2, 1) + 8*(4, 0)*(4, 2) + 8*(4, 1)*(4, 2) + 8*(4, 3)*(4, 2) + 4*(2, 2)*(4, 2) + 4*(3, 3)*(7, 3) + 4*(6, 3)*(7, 3) + 8*(7, 2)*(7, 3) + 4*(3, 2)*(1, 2) + 4*(6, 1)*(7, 1) + 8*(7, 2)*(7, 1) + 4*(3, 1)*(7, 1) + 8*(7, 3)*(7, 1) + 8*(0, 0)*(0, 2) + 4*(3, 2)*(0, 2) + 4*(6, 2)*(0, 2) + 8*(0, 1)*(0, 2) + 8*(0, 3)*(0, 2) + 4*(0, 0)*(5, 0) + 8*(5, 1)*(5, 0) + 4*(3, 1)*(1, 1) + 8*(1, 2)*(1, 1) + 4*(3, 0)*(1, 0) + 8*(1, 2)*(1, 0) + 8*(1, 1)*(1, 0) + 8*(5, 1)*(5, 2) + 4*(0, 2)*(5, 2) + 8*(5, 0)*(5, 2) + 8*(2, 0)*(2, 3) + 4*(4, 3)*(2, 3) + 8*(2, 2)*(2, 3) + 8*(2, 1)*(2, 3) + 8*(9, 2)*(9, 1) + 8*(9, 3)*(9, 1) + 4*(3, 3)*(1, 3) + 8*(1, 2)*(1, 3) + 8*(1, 1)*(1, 3) + 8*(1, 0)*(1, 3) + 8*(8, 0)*(8, 1) + 8*(8, 3)*(8, 1) + 8*(8, 2)*(8, 1) + 4*(9, 1)*(8, 1) + 8*(5, 1)*(5, 3) + 4*(0, 3)*(5, 3) + 8*(5, 0)*(5, 3) + 8*(5, 2)*(5, 3) + 4*(8, 0)*(9, 0) + 8*(9, 2)*(9, 0) + 8*(9, 3)*(9, 0) + 8*(9, 1)*(9, 0) + 4*(3, 0)*(7, 0) + 4*(6, 0)*(7, 0) + 8*(7, 2)*(7, 0) + 8*(7, 3)*(7, 0) + 8*(7, 1)*(7, 0)\n"
     ]
    }
   ],
   "source": [
    "# define variables\n",
    "colors = [[Binary(f'({n}, {c})') for c in range(num_colors)] for n in graph.nodes]\n",
    "\n",
    "print(colors)\n",
    "\n",
    "P = 4\n",
    "H = 0\n",
    "# color one hot\n",
    "for n in graph.nodes:\n",
    "    H += P*Constraint((sum(colors[n][c] for c in range(num_colors))-1)**2, label=f'one hot{n}')\n",
    "\n",
    "# adjacent nodes\n",
    "for i,j in graph.edges:\n",
    "    H += P*Constraint(sum(colors[i][p]*colors[j][p] for p in range(num_colors)), label=f'adjacent {i},{j}')\n",
    "\n",
    "model = H.compile()\n",
    "Q = model.to_bqm()\n",
    "print(Q.to_polystring())"
   ]
  },
  {
   "cell_type": "markdown",
   "metadata": {},
   "source": [
    "## Solve"
   ]
  },
  {
   "cell_type": "code",
   "execution_count": 4,
   "metadata": {},
   "outputs": [
    {
     "ename": "ValueError",
     "evalue": "no embedding found",
     "output_type": "error",
     "traceback": [
      "\u001b[1;31m---------------------------------------------------------------------------\u001b[0m",
      "\u001b[1;31mValueError\u001b[0m                                Traceback (most recent call last)",
      "\u001b[1;32m<ipython-input-4-6820550d498d>\u001b[0m in \u001b[0;36m<module>\u001b[1;34m\u001b[0m\n\u001b[0;32m      2\u001b[0m \u001b[1;31m# run QPU solver\u001b[0m\u001b[1;33m\u001b[0m\u001b[1;33m\u001b[0m\u001b[1;33m\u001b[0m\u001b[0m\n\u001b[0;32m      3\u001b[0m \u001b[0msampler\u001b[0m \u001b[1;33m=\u001b[0m \u001b[0mAutoEmbeddingComposite\u001b[0m\u001b[1;33m(\u001b[0m\u001b[0mDWaveSampler\u001b[0m\u001b[1;33m(\u001b[0m\u001b[1;33m)\u001b[0m\u001b[1;33m)\u001b[0m\u001b[1;33m\u001b[0m\u001b[1;33m\u001b[0m\u001b[0m\n\u001b[1;32m----> 4\u001b[1;33m \u001b[0mresponse\u001b[0m \u001b[1;33m=\u001b[0m \u001b[0msampler\u001b[0m\u001b[1;33m.\u001b[0m\u001b[0msample\u001b[0m\u001b[1;33m(\u001b[0m\u001b[0mQ\u001b[0m\u001b[1;33m,\u001b[0m \u001b[0mnum_reads\u001b[0m\u001b[1;33m=\u001b[0m\u001b[1;36m1000\u001b[0m\u001b[1;33m,\u001b[0m \u001b[0mlabel\u001b[0m\u001b[1;33m=\u001b[0m\u001b[1;34m'BQM Graph Coloring'\u001b[0m\u001b[1;33m)\u001b[0m\u001b[1;33m\u001b[0m\u001b[1;33m\u001b[0m\u001b[0m\n\u001b[0m\u001b[0;32m      5\u001b[0m \u001b[0melapsed\u001b[0m \u001b[1;33m=\u001b[0m \u001b[0mtime\u001b[0m\u001b[1;33m.\u001b[0m\u001b[0mtime\u001b[0m\u001b[1;33m(\u001b[0m\u001b[1;33m)\u001b[0m \u001b[1;33m-\u001b[0m \u001b[0mstart\u001b[0m\u001b[1;33m\u001b[0m\u001b[1;33m\u001b[0m\u001b[0m\n\u001b[0;32m      6\u001b[0m \u001b[0mprint\u001b[0m\u001b[1;33m(\u001b[0m\u001b[1;34m\"Solved in %.2f seconds\"\u001b[0m \u001b[1;33m%\u001b[0m \u001b[0melapsed\u001b[0m\u001b[1;33m)\u001b[0m\u001b[1;33m\u001b[0m\u001b[1;33m\u001b[0m\u001b[0m\n",
      "\u001b[1;32m~\\anaconda3\\lib\\site-packages\\dwave\\system\\composites\\embedding.py\u001b[0m in \u001b[0;36msample\u001b[1;34m(self, bqm, **parameters)\u001b[0m\n\u001b[0;32m    626\u001b[0m             \u001b[1;32mpass\u001b[0m\u001b[1;33m\u001b[0m\u001b[1;33m\u001b[0m\u001b[0m\n\u001b[0;32m    627\u001b[0m \u001b[1;33m\u001b[0m\u001b[0m\n\u001b[1;32m--> 628\u001b[1;33m         \u001b[1;32mreturn\u001b[0m \u001b[0msuper\u001b[0m\u001b[1;33m(\u001b[0m\u001b[0mAutoEmbeddingComposite\u001b[0m\u001b[1;33m,\u001b[0m \u001b[0mself\u001b[0m\u001b[1;33m)\u001b[0m\u001b[1;33m.\u001b[0m\u001b[0msample\u001b[0m\u001b[1;33m(\u001b[0m\u001b[0mbqm\u001b[0m\u001b[1;33m,\u001b[0m \u001b[1;33m**\u001b[0m\u001b[0mparameters\u001b[0m\u001b[1;33m)\u001b[0m\u001b[1;33m\u001b[0m\u001b[1;33m\u001b[0m\u001b[0m\n\u001b[0m",
      "\u001b[1;32m~\\anaconda3\\lib\\site-packages\\dwave\\system\\composites\\embedding.py\u001b[0m in \u001b[0;36msample\u001b[1;34m(self, bqm, chain_strength, chain_break_method, chain_break_fraction, embedding_parameters, return_embedding, warnings, **parameters)\u001b[0m\n\u001b[0;32m    237\u001b[0m \u001b[1;33m\u001b[0m\u001b[0m\n\u001b[0;32m    238\u001b[0m         \u001b[1;32mif\u001b[0m \u001b[0mbqm\u001b[0m \u001b[1;32mand\u001b[0m \u001b[1;32mnot\u001b[0m \u001b[0membedding\u001b[0m\u001b[1;33m:\u001b[0m\u001b[1;33m\u001b[0m\u001b[1;33m\u001b[0m\u001b[0m\n\u001b[1;32m--> 239\u001b[1;33m             \u001b[1;32mraise\u001b[0m \u001b[0mValueError\u001b[0m\u001b[1;33m(\u001b[0m\u001b[1;34m\"no embedding found\"\u001b[0m\u001b[1;33m)\u001b[0m\u001b[1;33m\u001b[0m\u001b[1;33m\u001b[0m\u001b[0m\n\u001b[0m\u001b[0;32m    240\u001b[0m \u001b[1;33m\u001b[0m\u001b[0m\n\u001b[0;32m    241\u001b[0m         \u001b[1;32mif\u001b[0m \u001b[1;32mnot\u001b[0m \u001b[0mhasattr\u001b[0m\u001b[1;33m(\u001b[0m\u001b[0membedding\u001b[0m\u001b[1;33m,\u001b[0m \u001b[1;34m'embed_bqm'\u001b[0m\u001b[1;33m)\u001b[0m\u001b[1;33m:\u001b[0m\u001b[1;33m\u001b[0m\u001b[1;33m\u001b[0m\u001b[0m\n",
      "\u001b[1;31mValueError\u001b[0m: no embedding found"
     ]
    }
   ],
   "source": [
    "start = time.time()\n",
    "# run QPU solver\n",
    "sampler = AutoEmbeddingComposite(DWaveSampler())\n",
    "response = sampler.sample(Q, num_reads=1000, label='BQM Graph Coloring')\n",
    "elapsed = time.time() - start\n",
    "print(\"Solved in %.2f seconds\" % elapsed)\n",
    "print(response.first.sample, response.first.energy)"
   ]
  },
  {
   "cell_type": "markdown",
   "metadata": {},
   "source": [
    "## Redraw graph solution"
   ]
  },
  {
   "cell_type": "code",
   "execution_count": null,
   "metadata": {},
   "outputs": [],
   "source": [
    "gcolors = ['red', 'blue', 'green', 'black', 'cyan', 'orange', 'yellow', 'purple', 'olive', 'grey']\n",
    "color_map = np.empty(len(graph.nodes), dtype=object)\n",
    "\n",
    "sorted_nodes = np.array(sorted(graph.nodes))\n",
    "\n",
    "for n in graph.nodes:\n",
    "    for c in range(num_colors):\n",
    "        i = f'({n}, {c})'\n",
    "        if response.first.sample[i] > 0.5:\n",
    "            color_map[n] = gcolors[c]\n",
    "        if color_map[n] is None:\n",
    "            color_map[n] = \"white\"\n",
    "\n",
    "print(graph.nodes)\n",
    "print(color_map)\n",
    "        \n",
    "# draw graph\n",
    "nx.draw(graph, node_color=color_map, with_labels=True)"
   ]
  },
  {
   "cell_type": "code",
   "execution_count": null,
   "metadata": {},
   "outputs": [],
   "source": [
    "dec = model.decode_sample(response.first.sample, vartype='BINARY')\n",
    "print(dec.constraints(only_broken=True))\n",
    "print(len(dec.constraints(only_broken=True)))"
   ]
  },
  {
   "cell_type": "code",
   "execution_count": null,
   "metadata": {},
   "outputs": [],
   "source": []
  }
 ],
 "metadata": {
  "kernelspec": {
   "display_name": "Python 3",
   "language": "python",
   "name": "python3"
  },
  "language_info": {
   "codemirror_mode": {
    "name": "ipython",
    "version": 3
   },
   "file_extension": ".py",
   "mimetype": "text/x-python",
   "name": "python",
   "nbconvert_exporter": "python",
   "pygments_lexer": "ipython3",
   "version": "3.8.3"
  }
 },
 "nbformat": 4,
 "nbformat_minor": 4
}
