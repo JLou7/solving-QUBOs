{
 "cells": [
  {
   "cell_type": "markdown",
   "metadata": {},
   "source": [
    "# Max-Cut 2\n",
    "Solve the max-cut problem using DWave's qubo generator\n",
    "\n",
    "Given an undirected graph $G(V,E)$, partition the vertices into 2 subsets such that the number of edges between the 2 subsets is maximized (max edges \"cut\")"
   ]
  },
  {
   "cell_type": "code",
   "execution_count": 1,
   "metadata": {},
   "outputs": [],
   "source": [
    "import dimod\n",
    "\n",
    "import pyqubo\n",
    "from pyqubo import Spin, Binary, Constraint\n",
    "\n",
    "from dwave.system.samplers import DWaveSampler\n",
    "from dwave.system.composites import LazyEmbeddingComposite\n",
    "\n",
    "import networkx as nx\n",
    "\n",
    "import numpy as np\n",
    "import numpy.random as random\n",
    "\n",
    "import time"
   ]
  },
  {
   "cell_type": "markdown",
   "metadata": {},
   "source": [
    "## Function for solving QUBO\n",
    "Given a hamiltonian $H$ in QUBO form, solve for lowest energy solution"
   ]
  },
  {
   "cell_type": "code",
   "execution_count": 20,
   "metadata": {},
   "outputs": [],
   "source": [
    "def qdict_to_matrix(qubo,qubits):\n",
    "    Q = np.zeros([len(qubits),len(qubits)])\n",
    "    for (i,j) in qubo:\n",
    "        x = int(i[1:])\n",
    "        y = int(j[1:])\n",
    "        Q[x,y] = qubo[(i,j)]\n",
    "    return Q\n",
    "\n",
    "def solve_qubo(H,\n",
    "               qubits,\n",
    "               sampler=\"CPU\", # CPU or QPU\n",
    "               k=10,\n",
    "               chain_strength=None):\n",
    "    \"\"\"\n",
    "    Given a hamiltonian, solves the quadratic unconstrained binary\n",
    "    optimization (QUBO) problem given by\n",
    "    \n",
    "        minimize sum(x[i] * Q[i,j] * x[j]\n",
    "                     for i in range(N),\n",
    "                     for j in range(i+1, N))\n",
    "    \n",
    "    Uses compile() to convert the hamiltonian into matrix (dictionary) form.\n",
    "    dimod.SimulatedAnnealingSampler is then used, which solves the problem k times through simulated\n",
    "    annealing (on a regular CPU). This method returns the best solution found.\n",
    "    \"\"\"\n",
    "    assert sampler in [\"CPU\", \"QPU\"]\n",
    "    \n",
    "    model = H.compile()\n",
    "    qubo, offset = model.to_qubo()\n",
    "    bqm = dimod.BinaryQuadraticModel.from_qubo(qubo,offset=offset)\n",
    "    \n",
    "    Q = qdict_to_matrix(qubo,qubits)\n",
    "    n = Q.shape[0]\n",
    "    nz = len(Q[Q!=0])\n",
    "    print(\"Solving QUBO problem (%d vars, %d nz) on %s...\" % (n, nz, sampler))\n",
    "    \n",
    "    start = time.time()\n",
    "    \n",
    "    if sampler == \"CPU\":\n",
    "        sampler = dimod.SimulatedAnnealingSampler()\n",
    "        response = sampler.sample(bqm, num_reads=k)\n",
    "    else:\n",
    "        if chain_strength is None:\n",
    "            chain_strength = int(10 * max(qubo.values()))\n",
    "        sampler = LazyEmbeddingComposite(DWaveSampler(solver=\"Advantage_system6.1\"))\n",
    "        response = sampler.sample(bqm, num_reads=k, chain_strength=chain_strength)\n",
    "        \n",
    "    elapsed = time.time() - start\n",
    "    \n",
    "    print(\"Solved in %.2f seconds\" % elapsed)\n",
    "    solution = min(response.data([\"sample\", \"energy\"]), key=lambda s: s.energy)\n",
    "    return solution, response, Q"
   ]
  },
  {
   "cell_type": "markdown",
   "metadata": {},
   "source": [
    "## Generate random graph"
   ]
  },
  {
   "cell_type": "code",
   "execution_count": 15,
   "metadata": {},
   "outputs": [
    {
     "name": "stdout",
     "output_type": "stream",
     "text": [
      "7\n"
     ]
    },
    {
     "data": {
      "image/png": "[encoded data removed]",
      "text/plain": [
       "<Figure size 432x288 with 1 Axes>"
      ]
     },
     "metadata": {},
     "output_type": "display_data"
    }
   ],
   "source": [
    "# number of nodes\n",
    "n = 5\n",
    "# edge generation probability\n",
    "p = 0.65\n",
    "# seed (optional)\n",
    "seed = 42\n",
    "#generate graph\n",
    "graph = nx.gnp_random_graph(n,p,seed)\n",
    "\n",
    "# draw graph\n",
    "nx.draw(graph, with_labels=True)\n",
    "\n",
    "print(len(graph.edges))"
   ]
  },
  {
   "cell_type": "markdown",
   "metadata": {},
   "source": [
    "## Define hamiltonian\n",
    "Objective function is: min $y=\\sum_{(i,j)\\in E}(2x_ix_j-x_i-x_j)$"
   ]
  },
  {
   "cell_type": "code",
   "execution_count": 16,
   "metadata": {},
   "outputs": [],
   "source": [
    "x = []\n",
    "for i in graph.nodes:\n",
    "    x.append(Binary(f'x{i}'))\n",
    "\n",
    "H = 0\n",
    "for (i,j) in graph.edges:\n",
    "    H += 2*x[i]*x[j]-x[i]-x[j]"
   ]
  },
  {
   "cell_type": "markdown",
   "metadata": {},
   "source": [
    "## Solve on CPU"
   ]
  },
  {
   "cell_type": "code",
   "execution_count": 36,
   "metadata": {},
   "outputs": [
    {
     "name": "stdout",
     "output_type": "stream",
     "text": [
      "Solving QUBO problem (5 vars, 12 nz) on CPU...\n",
      "Solved in 0.20 seconds\n",
      "  x0 x1 x2 x3 x4 energy num_oc.\n",
      "0  0  1  1  0  1   -5.0       1\n",
      "1  0  1  1  1  0   -5.0       1\n",
      "2  1  0  0  0  1   -5.0       1\n",
      "3  0  1  1  1  0   -5.0       1\n",
      "4  0  1  0  1  1   -5.0       1\n",
      "5  1  0  1  0  0   -5.0       1\n",
      "6  1  0  1  0  0   -5.0       1\n",
      "7  0  1  1  0  1   -5.0       1\n",
      "8  0  1  1  0  1   -5.0       1\n",
      "9  1  0  0  0  1   -5.0       1\n",
      "['BINARY', 10 rows, 10 samples, 5 variables]\n"
     ]
    }
   ],
   "source": [
    "k=10\n",
    "# solve problem\n",
    "solution1, response1, Q = solve_qubo(H,x,\"CPU\",k)\n",
    "\n",
    "# display result\n",
    "print(response1)"
   ]
  },
  {
   "cell_type": "code",
   "execution_count": 37,
   "metadata": {},
   "outputs": [
    {
     "name": "stdout",
     "output_type": "stream",
     "text": [
      "Sample(sample={'x0': 0, 'x1': 1, 'x2': 1, 'x3': 0, 'x4': 1}, energy=-5.0)\n"
     ]
    }
   ],
   "source": [
    "print(solution1)"
   ]
  },
  {
   "cell_type": "code",
   "execution_count": 38,
   "metadata": {},
   "outputs": [
    {
     "name": "stdout",
     "output_type": "stream",
     "text": [
      "{'x0': 0, 'x1': 1, 'x2': 1, 'x3': 0, 'x4': 1}\n"
     ]
    }
   ],
   "source": [
    "print(solution1.sample)"
   ]
  },
  {
   "cell_type": "markdown",
   "metadata": {},
   "source": [
    "## Redraw graph to show solution"
   ]
  },
  {
   "cell_type": "code",
   "execution_count": 39,
   "metadata": {},
   "outputs": [
    {
     "name": "stdout",
     "output_type": "stream",
     "text": [
      "edges cut:  5.0\n"
     ]
    },
    {
     "data": {
      "image/png": "[encoded data removed]",
      "text/plain": [
       "<Figure size 432x288 with 1 Axes>"
      ]
     },
     "metadata": {},
     "output_type": "display_data"
    }
   ],
   "source": [
    "# assign colors\n",
    "color_map = []\n",
    "for node in graph:\n",
    "    if solution1.sample[f'x{node}'] < 0.5:\n",
    "        color_map.append('blue')\n",
    "    else: \n",
    "        color_map.append('green')\n",
    "        \n",
    "# assign positions     \n",
    "pos = {}\n",
    "for i in range(n):\n",
    "    if solution1.sample[f'x{i}'] > 0.5:\n",
    "        pos[i] = (2*n+0.005*i**2,i)\n",
    "    else:\n",
    "        pos[i] = (0-0.005*i**2,i)\n",
    "nx.draw(graph,pos=pos, node_color=color_map, with_labels=True)\n",
    "\n",
    "print(\"edges cut: \", -solution1.energy)"
   ]
  },
  {
   "cell_type": "markdown",
   "metadata": {},
   "source": [
    "## Solve on QPU"
   ]
  },
  {
   "cell_type": "code",
   "execution_count": 33,
   "metadata": {},
   "outputs": [
    {
     "name": "stdout",
     "output_type": "stream",
     "text": [
      "Solving QUBO problem (5 vars, 12 nz) on QPU...\n",
      "Solved in 1.08 seconds\n",
      "  x0 x1 x2 x3 x4 energy num_oc. chain_.\n",
      "0  0  1  0  1  1   -5.0      48     0.0\n",
      "1  0  1  1  0  1   -5.0      43     0.0\n",
      "2  0  1  1  1  0   -5.0      52     0.0\n",
      "3  1  0  0  0  1   -5.0      26     0.0\n",
      "4  1  0  1  0  0   -5.0      74     0.0\n",
      "5  1  0  0  1  0   -5.0      57     0.0\n",
      "['BINARY', 6 rows, 300 samples, 5 variables]\n"
     ]
    }
   ],
   "source": [
    "k=300\n",
    "# solve problem\n",
    "solution, response, Q = solve_qubo(H,x,\"QPU\",k)\n",
    "\n",
    "# display result\n",
    "print(response)"
   ]
  },
  {
   "cell_type": "code",
   "execution_count": 34,
   "metadata": {},
   "outputs": [
    {
     "name": "stdout",
     "output_type": "stream",
     "text": [
      "Sample(sample={'x0': 0, 'x1': 1, 'x2': 0, 'x3': 1, 'x4': 1}, energy=-5.0)\n"
     ]
    }
   ],
   "source": [
    "print(solution)"
   ]
  },
  {
   "cell_type": "code",
   "execution_count": 35,
   "metadata": {},
   "outputs": [
    {
     "name": "stdout",
     "output_type": "stream",
     "text": [
      "edges cut:  5.0\n"
     ]
    },
    {
     "data": {
      "image/png": "[encoded data removed]",
      "text/plain": [
       "<Figure size 432x288 with 1 Axes>"
      ]
     },
     "metadata": {},
     "output_type": "display_data"
    }
   ],
   "source": [
    "# assign colors\n",
    "color_map = []\n",
    "for node in graph:\n",
    "    if solution.sample[f'x{node}'] < 0.5:\n",
    "        color_map.append('blue')\n",
    "    else: \n",
    "        color_map.append('green')\n",
    "        \n",
    "# assign positions     \n",
    "pos = {}\n",
    "for i in range(n):\n",
    "    if solution.sample[f'x{i}'] > 0.5:\n",
    "        pos[i] = (2*n+0.005*i**2,i)\n",
    "    else:\n",
    "        pos[i] = (0-0.005*i**2,i)\n",
    "nx.draw(graph,pos=pos, node_color=color_map, with_labels=True)\n",
    "\n",
    "print(\"edges cut: \", -solution.energy)"
   ]
  },
  {
   "cell_type": "code",
   "execution_count": null,
   "metadata": {},
   "outputs": [],
   "source": []
  }
 ],
 "metadata": {
  "kernelspec": {
   "display_name": "Python 3",
   "language": "python",
   "name": "python3"
  },
  "language_info": {
   "codemirror_mode": {
    "name": "ipython",
    "version": 3
   },
   "file_extension": ".py",
   "mimetype": "text/x-python",
   "name": "python",
   "nbconvert_exporter": "python",
   "pygments_lexer": "ipython3",
   "version": "3.8.3"
  }
 },
 "nbformat": 4,
 "nbformat_minor": 4
}
