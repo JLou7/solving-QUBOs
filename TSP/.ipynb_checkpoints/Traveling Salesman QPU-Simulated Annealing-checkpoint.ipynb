{
 "cells": [
  {
   "cell_type": "markdown",
   "metadata": {},
   "source": [
    "# Traveling Salesman Problem\n",
    "\n",
    "Solved using QUBO on DWave's direct QPU sampler and classical solver"
   ]
  },
  {
   "cell_type": "code",
   "execution_count": 1,
   "metadata": {},
   "outputs": [],
   "source": [
    "import time\n",
    "\n",
    "import numpy as np\n",
    "import networkx as nx\n",
    "\n",
    "from numpy import random\n",
    "from dwave_networkx.algorithms.tsp import traveling_salesperson_qubo, traveling_salesperson\n",
    "from dwave.system import LazyEmbeddingComposite, DWaveSampler, AutoEmbeddingComposite\n",
    "\n",
    "import dimod\n",
    "import dwave.inspector"
   ]
  },
  {
   "cell_type": "markdown",
   "metadata": {},
   "source": [
    "## Generate problem"
   ]
  },
  {
   "cell_type": "code",
   "execution_count": 3,
   "metadata": {},
   "outputs": [
    {
     "name": "stdout",
     "output_type": "stream",
     "text": [
      "[(0, 1), (0, 2), (0, 3), (0, 4), (1, 2), (1, 3), (1, 4), (2, 3), (2, 4), (3, 4)]\n"
     ]
    },
    {
     "data": {
      "text/plain": [
       "{(0, 1): Text(0.654508476093664, 0.47552828417802706, '1'),\n",
       " (0, 2): Text(0.09549147175227024, 0.2938926307527015, '1'),\n",
       " (0, 3): Text(0.09549150155459352, -0.2938926605550248, '2'),\n",
       " (0, 4): Text(0.6545085505994722, -0.4755282543757038, '5'),\n",
       " (1, 2): Text(-0.25000005215406573, 0.7694209149307285, '7'),\n",
       " (1, 3): Text(-0.25000002235174246, 0.18163562362300228, '6'),\n",
       " (1, 4): Text(0.3090170266931363, 2.980232327587373e-08, '7'),\n",
       " (2, 3): Text(-0.8090170266931362, -2.980232327587373e-08, '7'),\n",
       " (2, 4): Text(-0.24999997764825752, -0.18163562362300228, '6'),\n",
       " (3, 4): Text(-0.24999994784593424, -0.7694209149307285, '3')}"
      ]
     },
     "execution_count": 3,
     "metadata": {},
     "output_type": "execute_result"
    },
    {
     "data": {
      "image/png": "[encoded data removed]",
      "text/plain": [
       "<Figure size 432x288 with 1 Axes>"
      ]
     },
     "metadata": {},
     "output_type": "display_data"
    }
   ],
   "source": [
    "# generate random graph\n",
    "# number of nodes\n",
    "num_nodes = 5\n",
    "# edge generation probability\n",
    "p = 1\n",
    "# seed (optional)\n",
    "seed = 50\n",
    "random.seed(seed)\n",
    "#generate graph\n",
    "graph = nx.gnp_random_graph(num_nodes,p,seed)\n",
    "\n",
    "for (u, v) in graph.edges():\n",
    "    graph.edges[u,v]['weight'] = random.randint(1,10)\n",
    "    \n",
    "print(graph.edges)\n",
    "# draw graph\n",
    "pos = nx.circular_layout(graph)\n",
    "nx.draw(graph, pos=pos, with_labels=True)\n",
    "labels = nx.get_edge_attributes(graph, 'weight')\n",
    "nx.draw_networkx_edge_labels(graph, pos=pos, edge_labels=labels)"
   ]
  },
  {
   "cell_type": "markdown",
   "metadata": {},
   "source": [
    "## Generate QUBO"
   ]
  },
  {
   "cell_type": "code",
   "execution_count": 4,
   "metadata": {},
   "outputs": [],
   "source": [
    "# generate qubo\n",
    "qubo = traveling_salesperson_qubo(graph, weight='weight')\n",
    "# traveling_salesperson(graph, dimod.ExactSolver(), weight='weight')"
   ]
  },
  {
   "cell_type": "markdown",
   "metadata": {},
   "source": [
    "## Solve with QPU"
   ]
  },
  {
   "cell_type": "code",
   "execution_count": 8,
   "metadata": {},
   "outputs": [
    {
     "name": "stdout",
     "output_type": "stream",
     "text": [
      "Solved in 5.54 seconds\n",
      "{(0, 0): 0, (0, 1): 0, (0, 2): 0, (0, 3): 1, (0, 4): 0, (1, 0): 0, (1, 1): 0, (1, 2): 1, (1, 3): 0, (1, 4): 0, (2, 0): 0, (2, 1): 0, (2, 2): 0, (2, 3): 0, (2, 4): 1, (3, 0): 0, (3, 1): 1, (3, 2): 0, (3, 3): 0, (3, 4): 0, (4, 0): 1, (4, 1): 0, (4, 2): 0, (4, 3): 0, (4, 4): 0} -208.0\n"
     ]
    }
   ],
   "source": [
    "start = time.time()\n",
    "# run QPU solver\n",
    "sampler = LazyEmbeddingComposite(DWaveSampler())\n",
    "response = sampler.sample_qubo(qubo, num_reads=5000, label='BQM TSP')\n",
    "elapsed = time.time() - start\n",
    "print(\"Solved in %.2f seconds\" % elapsed)\n",
    "print(response.first.sample, response.first.energy)"
   ]
  },
  {
   "cell_type": "code",
   "execution_count": 9,
   "metadata": {},
   "outputs": [
    {
     "name": "stdout",
     "output_type": "stream",
     "text": [
      "(0, 3)\n",
      "(1, 2)\n",
      "(2, 4)\n",
      "(3, 1)\n",
      "(4, 0)\n",
      "0 3\n",
      "1 2\n",
      "2 4\n",
      "3 1\n",
      "4 0\n",
      "26\n"
     ]
    }
   ],
   "source": [
    "solution = response.first.sample\n",
    "for i in solution:\n",
    "    if solution[i] > 0.5:\n",
    "        print(i)\n",
    "        \n",
    "dist = 0\n",
    "for i,j in solution:\n",
    "    if solution[(i,j)]>0.5:\n",
    "        print(i,j)\n",
    "        dist += graph[i][j]['weight']\n",
    "        \n",
    "print(dist)"
   ]
  },
  {
   "cell_type": "code",
   "execution_count": 10,
   "metadata": {},
   "outputs": [
    {
     "data": {
      "text/plain": [
       "'http://127.0.0.1:18000/?problemId=451ac673-5874-4ddf-b93d-cd1ac43be36c'"
      ]
     },
     "execution_count": 10,
     "metadata": {},
     "output_type": "execute_result"
    }
   ],
   "source": [
    "dwave.inspector.show(response)"
   ]
  },
  {
   "cell_type": "markdown",
   "metadata": {},
   "source": [
    "## Redraw graph with solution"
   ]
  },
  {
   "cell_type": "code",
   "execution_count": null,
   "metadata": {},
   "outputs": [],
   "source": [
    "for i,j in solution:\n",
    "    if (i,j) in graph.edges:\n",
    "        graph[i][j]['color'] = 'blue'\n",
    "    if solution[(i,j)] > 0.5 or solution[(j,i)]:\n",
    "        graph[i][j]['color'] = 'red'\n",
    "        \n",
    "edges = graph.edges()\n",
    "colors = [graph[u][v]['color'] for u,v in edges]\n",
    "weights = [graph[u][v]['weight'] for u,v in edges]\n",
    "\n",
    "# draw\n",
    "nx.draw(graph, pos, edges=edges, edge_color=colors, with_labels=True)\n",
    "labels = nx.get_edge_attributes(graph, 'weight')\n",
    "nx.draw_networkx_edge_labels(graph, pos=pos, edge_labels=labels)"
   ]
  },
  {
   "cell_type": "markdown",
   "metadata": {},
   "source": [
    "## Solve with Simulated Annealing"
   ]
  },
  {
   "cell_type": "code",
   "execution_count": null,
   "metadata": {},
   "outputs": [],
   "source": [
    "start = time.time()\n",
    "sampler1 = dimod.SimulatedAnnealingSampler()\n",
    "response1 = sampler1.sample_qubo(qubo)\n",
    "elapsed = time.time() - start\n",
    "print(\"Solved in %.2f seconds\" % elapsed)\n",
    "solution1 = response1.first.sample\n",
    "print(response1.first)"
   ]
  },
  {
   "cell_type": "code",
   "execution_count": null,
   "metadata": {},
   "outputs": [],
   "source": [
    "for i in solution1:\n",
    "    if solution1[i] > 0.5:\n",
    "        print(i)\n",
    "        \n",
    "dist = 0\n",
    "for i,j in solution1:\n",
    "    if solution1[(i,j)]>0.5:\n",
    "        dist += graph[i][j]['weight']\n",
    "        \n",
    "print(dist)"
   ]
  },
  {
   "cell_type": "markdown",
   "metadata": {},
   "source": [
    "## Redraw graph with solution"
   ]
  },
  {
   "cell_type": "code",
   "execution_count": null,
   "metadata": {},
   "outputs": [],
   "source": [
    "for i,j in solution1:\n",
    "    if (i,j) in graph.edges:\n",
    "        graph[i][j]['color'] = 'blue'\n",
    "    if solution[(i,j)] > 0.5 or solution[(j,i)]:\n",
    "        graph[i][j]['color'] = 'red'\n",
    "        \n",
    "edges = graph.edges()\n",
    "colors = [graph[u][v]['color'] for u,v in edges]\n",
    "weights = [graph[u][v]['weight'] for u,v in edges]\n",
    "\n",
    "# draw\n",
    "nx.draw(graph, pos, edges=edges, edge_color=colors, width=weights, with_labels=True)\n",
    "labels = nx.get_edge_attributes(graph, 'weight')\n",
    "nx.draw_networkx_edge_labels(graph, pos=pos, edge_labels=labels)"
   ]
  },
  {
   "cell_type": "code",
   "execution_count": null,
   "metadata": {},
   "outputs": [],
   "source": []
  }
 ],
 "metadata": {
  "kernelspec": {
   "display_name": "Python 3",
   "language": "python",
   "name": "python3"
  },
  "language_info": {
   "codemirror_mode": {
    "name": "ipython",
    "version": 3
   },
   "file_extension": ".py",
   "mimetype": "text/x-python",
   "name": "python",
   "nbconvert_exporter": "python",
   "pygments_lexer": "ipython3",
   "version": "3.8.3"
  }
 },
 "nbformat": 4,
 "nbformat_minor": 4
}
