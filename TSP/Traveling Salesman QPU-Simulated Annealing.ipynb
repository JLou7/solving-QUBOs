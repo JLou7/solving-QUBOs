{
 "cells": [
  {
   "cell_type": "markdown",
   "metadata": {},
   "source": [
    "# Traveling Salesman Problem\n",
    "\n",
    "Solved using QUBO on DWave's direct QPU sampler and classical solver"
   ]
  },
  {
   "cell_type": "code",
   "execution_count": 1,
   "metadata": {},
   "outputs": [],
   "source": [
    "import time\n",
    "\n",
    "import numpy as np\n",
    "import networkx as nx\n",
    "\n",
    "from numpy import random\n",
    "from dwave_networkx.algorithms.tsp import traveling_salesperson_qubo, traveling_salesperson\n",
    "from dwave.system import LazyEmbeddingComposite, DWaveSampler, AutoEmbeddingComposite\n",
    "\n",
    "import dimod\n",
    "import dwave.inspector"
   ]
  },
  {
   "cell_type": "markdown",
   "metadata": {},
   "source": [
    "## Generate problem"
   ]
  },
  {
   "cell_type": "code",
   "execution_count": 2,
   "metadata": {},
   "outputs": [
    {
     "name": "stdout",
     "output_type": "stream",
     "text": [
      "[(0, 1), (0, 2), (0, 3), (0, 4), (1, 2), (1, 3), (1, 4), (2, 3), (2, 4), (3, 4)]\n"
     ]
    },
    {
     "data": {
      "text/plain": [
       "{(0, 1): Text(0.654508476093664, 0.47552828417802706, '1'),\n",
       " (0, 2): Text(0.09549147175227024, 0.2938926307527015, '1'),\n",
       " (0, 3): Text(0.09549150155459352, -0.2938926605550248, '2'),\n",
       " (0, 4): Text(0.6545085505994722, -0.4755282543757038, '5'),\n",
       " (1, 2): Text(-0.25000005215406573, 0.7694209149307285, '7'),\n",
       " (1, 3): Text(-0.25000002235174246, 0.18163562362300228, '6'),\n",
       " (1, 4): Text(0.3090170266931363, 2.980232327587373e-08, '7'),\n",
       " (2, 3): Text(-0.8090170266931362, -2.980232327587373e-08, '7'),\n",
       " (2, 4): Text(-0.24999997764825752, -0.18163562362300228, '6'),\n",
       " (3, 4): Text(-0.24999994784593424, -0.7694209149307285, '3')}"
      ]
     },
     "execution_count": 2,
     "metadata": {},
     "output_type": "execute_result"
    },
    {
     "data": {
      "image/png": "[encoded data removed]",
      "text/plain": [
       "<Figure size 432x288 with 1 Axes>"
      ]
     },
     "metadata": {},
     "output_type": "display_data"
    }
   ],
   "source": [
    "# generate random graph\n",
    "# number of nodes\n",
    "num_nodes = 5\n",
    "# edge generation probability\n",
    "p = 1\n",
    "# seed (optional)\n",
    "seed = 50\n",
    "random.seed(seed)\n",
    "#generate graph\n",
    "graph = nx.gnp_random_graph(num_nodes,p,seed)\n",
    "\n",
    "for (u, v) in graph.edges():\n",
    "    graph.edges[u,v]['weight'] = random.randint(1,10)\n",
    "    \n",
    "print(graph.edges)\n",
    "# draw graph\n",
    "pos = nx.circular_layout(graph)\n",
    "nx.draw(graph, pos=pos, with_labels=True)\n",
    "labels = nx.get_edge_attributes(graph, 'weight')\n",
    "nx.draw_networkx_edge_labels(graph, pos=pos, edge_labels=labels)"
   ]
  },
  {
   "cell_type": "markdown",
   "metadata": {},
   "source": [
    "## Generate QUBO"
   ]
  },
  {
   "cell_type": "code",
   "execution_count": 3,
   "metadata": {},
   "outputs": [],
   "source": [
    "# generate qubo\n",
    "qubo = traveling_salesperson_qubo(graph, weight='weight')\n",
    "# traveling_salesperson(graph, dimod.ExactSolver(), weight='weight')"
   ]
  },
  {
   "cell_type": "markdown",
   "metadata": {},
   "source": [
    "## Solve with QPU"
   ]
  },
  {
   "cell_type": "code",
   "execution_count": 6,
   "metadata": {},
   "outputs": [
    {
     "name": "stdout",
     "output_type": "stream",
     "text": [
      "Solved in 3.54 seconds\n",
      "{(0, 0): 0, (0, 1): 0, (0, 2): 0, (0, 3): 1, (0, 4): 0, (1, 0): 0, (1, 1): 0, (1, 2): 0, (1, 3): 0, (1, 4): 1, (2, 0): 0, (2, 1): 0, (2, 2): 1, (2, 3): 0, (2, 4): 0, (3, 0): 1, (3, 1): 0, (3, 2): 0, (3, 3): 0, (3, 4): 0, (4, 0): 0, (4, 1): 1, (4, 2): 0, (4, 3): 0, (4, 4): 0} -208.0\n"
     ]
    }
   ],
   "source": [
    "start = time.time()\n",
    "# run QPU solver\n",
    "sampler = LazyEmbeddingComposite(DWaveSampler())\n",
    "response = sampler.sample_qubo(qubo, num_reads=5000, label='BQM TSP')\n",
    "elapsed = time.time() - start\n",
    "print(\"Solved in %.2f seconds\" % elapsed)\n",
    "print(response.first.sample, response.first.energy)"
   ]
  },
  {
   "cell_type": "code",
   "execution_count": 7,
   "metadata": {},
   "outputs": [
    {
     "name": "stdout",
     "output_type": "stream",
     "text": [
      "(0, 3)\n",
      "(1, 4)\n",
      "(2, 2)\n",
      "(3, 0)\n",
      "(4, 1)\n",
      "0 3\n",
      "1 4\n",
      "2 2\n"
     ]
    },
    {
     "ename": "KeyError",
     "evalue": "2",
     "output_type": "error",
     "traceback": [
      "\u001b[1;31m---------------------------------------------------------------------------\u001b[0m",
      "\u001b[1;31mKeyError\u001b[0m                                  Traceback (most recent call last)",
      "Input \u001b[1;32mIn [7]\u001b[0m, in \u001b[0;36m<cell line: 7>\u001b[1;34m()\u001b[0m\n\u001b[0;32m      8\u001b[0m     \u001b[38;5;28;01mif\u001b[39;00m solution[(i,j)]\u001b[38;5;241m>\u001b[39m\u001b[38;5;241m0.5\u001b[39m:\n\u001b[0;32m      9\u001b[0m         \u001b[38;5;28mprint\u001b[39m(i,j)\n\u001b[1;32m---> 10\u001b[0m         dist \u001b[38;5;241m+\u001b[39m\u001b[38;5;241m=\u001b[39m \u001b[43mgraph\u001b[49m\u001b[43m[\u001b[49m\u001b[43mi\u001b[49m\u001b[43m]\u001b[49m\u001b[43m[\u001b[49m\u001b[43mj\u001b[49m\u001b[43m]\u001b[49m[\u001b[38;5;124m'\u001b[39m\u001b[38;5;124mweight\u001b[39m\u001b[38;5;124m'\u001b[39m]\n\u001b[0;32m     12\u001b[0m \u001b[38;5;28mprint\u001b[39m(dist)\n",
      "File \u001b[1;32m~\\anaconda3\\lib\\site-packages\\networkx\\classes\\coreviews.py:54\u001b[0m, in \u001b[0;36mAtlasView.__getitem__\u001b[1;34m(self, key)\u001b[0m\n\u001b[0;32m     53\u001b[0m \u001b[38;5;28;01mdef\u001b[39;00m \u001b[38;5;21m__getitem__\u001b[39m(\u001b[38;5;28mself\u001b[39m, key):\n\u001b[1;32m---> 54\u001b[0m     \u001b[38;5;28;01mreturn\u001b[39;00m \u001b[38;5;28;43mself\u001b[39;49m\u001b[38;5;241;43m.\u001b[39;49m\u001b[43m_atlas\u001b[49m\u001b[43m[\u001b[49m\u001b[43mkey\u001b[49m\u001b[43m]\u001b[49m\n",
      "\u001b[1;31mKeyError\u001b[0m: 2"
     ]
    }
   ],
   "source": [
    "solution = response.first.sample\n",
    "for i in solution:\n",
    "    if solution[i] > 0.5:\n",
    "        print(i)\n",
    "        \n",
    "dist = 0\n",
    "for i,j in solution:\n",
    "    if solution[(i,j)]>0.5:\n",
    "        print(i,j)\n",
    "        dist += graph[i][j]['weight']\n",
    "        \n",
    "print(dist)"
   ]
  },
  {
   "cell_type": "code",
   "execution_count": 6,
   "metadata": {},
   "outputs": [
    {
     "name": "stderr",
     "output_type": "stream",
     "text": [
      "Exception in thread Thread-5:\n",
      "Traceback (most recent call last):\n",
      "  File \"C:\\Users\\Josh\\anaconda3\\lib\\site-packages\\dwave\\inspector\\server.py\", line 119, in _make_server\n",
      "    import dwave._inspectorapp as webappdata\n",
      "ModuleNotFoundError: No module named 'dwave._inspectorapp'\n",
      "\n",
      "During handling of the above exception, another exception occurred:\n",
      "\n",
      "Traceback (most recent call last):\n",
      "  File \"C:\\Users\\Josh\\anaconda3\\lib\\threading.py\", line 973, in _bootstrap_inner\n",
      "    self.run()\n",
      "  File \"C:\\Users\\Josh\\anaconda3\\lib\\site-packages\\dwave\\inspector\\server.py\", line 155, in run\n",
      "    self.server.serve_forever()\n",
      "  File \"C:\\Users\\Josh\\anaconda3\\lib\\site-packages\\dwave\\inspector\\server.py\", line 141, in server\n",
      "    self._server = self._make_server()\n",
      "  File \"C:\\Users\\Josh\\anaconda3\\lib\\site-packages\\dwave\\inspector\\server.py\", line 121, in _make_server\n",
      "    raise RuntimeError(\n",
      "RuntimeError: Cannot use the problem inspector without a non-open-source 'inspector' application component. Try running 'dwave install inspector' or consult the documentation.\n"
     ]
    },
    {
     "ename": "RuntimeError",
     "evalue": "Cannot use the problem inspector without a non-open-source 'inspector' application component. Try running 'dwave install inspector' or consult the documentation.",
     "output_type": "error",
     "traceback": [
      "\u001b[1;31m---------------------------------------------------------------------------\u001b[0m",
      "\u001b[1;31mModuleNotFoundError\u001b[0m                       Traceback (most recent call last)",
      "File \u001b[1;32m~\\anaconda3\\lib\\site-packages\\dwave\\inspector\\server.py:119\u001b[0m, in \u001b[0;36mWSGIAsyncServer._make_server\u001b[1;34m(self)\u001b[0m\n\u001b[0;32m    118\u001b[0m \u001b[38;5;28;01mtry\u001b[39;00m:\n\u001b[1;32m--> 119\u001b[0m     \u001b[38;5;28;01mimport\u001b[39;00m \u001b[38;5;21;01mdwave\u001b[39;00m\u001b[38;5;21;01m.\u001b[39;00m\u001b[38;5;21;01m_inspectorapp\u001b[39;00m \u001b[38;5;28;01mas\u001b[39;00m \u001b[38;5;21;01mwebappdata\u001b[39;00m\n\u001b[0;32m    120\u001b[0m \u001b[38;5;28;01mexcept\u001b[39;00m \u001b[38;5;167;01mImportError\u001b[39;00m:\n",
      "\u001b[1;31mModuleNotFoundError\u001b[0m: No module named 'dwave._inspectorapp'",
      "\nDuring handling of the above exception, another exception occurred:\n",
      "\u001b[1;31mRuntimeError\u001b[0m                              Traceback (most recent call last)",
      "Input \u001b[1;32mIn [6]\u001b[0m, in \u001b[0;36m<cell line: 1>\u001b[1;34m()\u001b[0m\n\u001b[1;32m----> 1\u001b[0m \u001b[43mdwave\u001b[49m\u001b[38;5;241;43m.\u001b[39;49m\u001b[43minspector\u001b[49m\u001b[38;5;241;43m.\u001b[39;49m\u001b[43mshow\u001b[49m\u001b[43m(\u001b[49m\u001b[43mresponse\u001b[49m\u001b[43m)\u001b[49m\n",
      "File \u001b[1;32m~\\anaconda3\\lib\\site-packages\\dwave\\inspector\\__init__.py:183\u001b[0m, in \u001b[0;36mshow\u001b[1;34m(*args, **kwargs)\u001b[0m\n\u001b[0;32m    181\u001b[0m data \u001b[38;5;241m=\u001b[39m from_objects(\u001b[38;5;241m*\u001b[39margs, \u001b[38;5;241m*\u001b[39m\u001b[38;5;241m*\u001b[39mkwargs)\n\u001b[0;32m    182\u001b[0m id_ \u001b[38;5;241m=\u001b[39m push_inspector_data(data)\n\u001b[1;32m--> 183\u001b[0m \u001b[38;5;28;01mreturn\u001b[39;00m \u001b[43mopen_problem\u001b[49m\u001b[43m(\u001b[49m\u001b[43mid_\u001b[49m\u001b[43m,\u001b[49m\u001b[43m \u001b[49m\u001b[43mblock\u001b[49m\u001b[38;5;241;43m=\u001b[39;49m\u001b[43mblock\u001b[49m\u001b[43m,\u001b[49m\u001b[43m \u001b[49m\u001b[43mtimeout\u001b[49m\u001b[38;5;241;43m=\u001b[39;49m\u001b[43mtimeout\u001b[49m\u001b[43m)\u001b[49m\n",
      "File \u001b[1;32m~\\anaconda3\\lib\\site-packages\\dwave\\inspector\\__init__.py:89\u001b[0m, in \u001b[0;36mopen_problem\u001b[1;34m(problem_id, block, timeout)\u001b[0m\n\u001b[0;32m     86\u001b[0m \u001b[38;5;28;01mif\u001b[39;00m \u001b[38;5;28misinstance\u001b[39m(block, \u001b[38;5;28mstr\u001b[39m):\n\u001b[0;32m     87\u001b[0m     block \u001b[38;5;241m=\u001b[39m Block(block\u001b[38;5;241m.\u001b[39mlower())\n\u001b[1;32m---> 89\u001b[0m \u001b[43mapp_server\u001b[49m\u001b[38;5;241;43m.\u001b[39;49m\u001b[43mensure_started\u001b[49m\u001b[43m(\u001b[49m\u001b[43m)\u001b[49m\n\u001b[0;32m     90\u001b[0m url \u001b[38;5;241m=\u001b[39m app_server\u001b[38;5;241m.\u001b[39mget_inspect_url(problem_id)\n\u001b[0;32m     92\u001b[0m \u001b[38;5;66;03m# open url and block if requested\u001b[39;00m\n",
      "File \u001b[1;32m~\\anaconda3\\lib\\site-packages\\dwave\\inspector\\server.py:190\u001b[0m, in \u001b[0;36mWSGIAsyncServer.ensure_started\u001b[1;34m(self)\u001b[0m\n\u001b[0;32m    188\u001b[0m \u001b[38;5;28;01mif\u001b[39;00m \u001b[38;5;129;01mnot\u001b[39;00m \u001b[38;5;28mself\u001b[39m\u001b[38;5;241m.\u001b[39mis_alive():\n\u001b[0;32m    189\u001b[0m     \u001b[38;5;28mself\u001b[39m\u001b[38;5;241m.\u001b[39mstart()\n\u001b[1;32m--> 190\u001b[0m     \u001b[38;5;28;01mreturn\u001b[39;00m \u001b[38;5;28;43mself\u001b[39;49m\u001b[38;5;241;43m.\u001b[39;49m\u001b[43m_ensure_accessible\u001b[49m\u001b[43m(\u001b[49m\u001b[43m)\u001b[49m\n\u001b[0;32m    192\u001b[0m \u001b[38;5;28;01mreturn\u001b[39;00m \u001b[38;5;28;01mTrue\u001b[39;00m\n",
      "File \u001b[1;32m~\\anaconda3\\lib\\site-packages\\dwave\\inspector\\server.py:176\u001b[0m, in \u001b[0;36mWSGIAsyncServer._ensure_accessible\u001b[1;34m(self, sleep, tries, timeout)\u001b[0m\n\u001b[0;32m    173\u001b[0m \u001b[38;5;28;01mdef\u001b[39;00m \u001b[38;5;21m_ensure_accessible\u001b[39m(\u001b[38;5;28mself\u001b[39m, sleep\u001b[38;5;241m=\u001b[39m\u001b[38;5;241m0.1\u001b[39m, tries\u001b[38;5;241m=\u001b[39m\u001b[38;5;241m100\u001b[39m, timeout\u001b[38;5;241m=\u001b[39m\u001b[38;5;241m10\u001b[39m):\n\u001b[0;32m    174\u001b[0m     \u001b[38;5;124;03m\"\"\"Ping the canary URL (app root) until the app becomes accessible.\"\"\"\u001b[39;00m\n\u001b[1;32m--> 176\u001b[0m     canary \u001b[38;5;241m=\u001b[39m \u001b[38;5;124m'\u001b[39m\u001b[38;5;124mhttp://\u001b[39m\u001b[38;5;132;01m{}\u001b[39;00m\u001b[38;5;124m:\u001b[39m\u001b[38;5;132;01m{}\u001b[39;00m\u001b[38;5;124m/\u001b[39m\u001b[38;5;124m'\u001b[39m\u001b[38;5;241m.\u001b[39mformat(\u001b[38;5;241m*\u001b[39m\u001b[38;5;28;43mself\u001b[39;49m\u001b[38;5;241;43m.\u001b[39;49m\u001b[43mserver\u001b[49m\u001b[38;5;241m.\u001b[39mserver_address)\n\u001b[0;32m    178\u001b[0m     \u001b[38;5;28;01mfor\u001b[39;00m _ \u001b[38;5;129;01min\u001b[39;00m \u001b[38;5;28mrange\u001b[39m(tries):\n\u001b[0;32m    179\u001b[0m         \u001b[38;5;28;01mtry\u001b[39;00m:\n",
      "File \u001b[1;32m~\\anaconda3\\lib\\site-packages\\dwave\\inspector\\server.py:141\u001b[0m, in \u001b[0;36mWSGIAsyncServer.server\u001b[1;34m(self)\u001b[0m\n\u001b[0;32m    138\u001b[0m \u001b[38;5;28mself\u001b[39m\u001b[38;5;241m.\u001b[39m_server \u001b[38;5;241m=\u001b[39m \u001b[38;5;28mgetattr\u001b[39m(\u001b[38;5;28mself\u001b[39m, \u001b[38;5;124m'\u001b[39m\u001b[38;5;124m_server\u001b[39m\u001b[38;5;124m'\u001b[39m, \u001b[38;5;28;01mNone\u001b[39;00m)\n\u001b[0;32m    140\u001b[0m \u001b[38;5;28;01mif\u001b[39;00m \u001b[38;5;28mself\u001b[39m\u001b[38;5;241m.\u001b[39m_server \u001b[38;5;129;01mis\u001b[39;00m \u001b[38;5;28;01mNone\u001b[39;00m:\n\u001b[1;32m--> 141\u001b[0m     \u001b[38;5;28mself\u001b[39m\u001b[38;5;241m.\u001b[39m_server \u001b[38;5;241m=\u001b[39m \u001b[38;5;28;43mself\u001b[39;49m\u001b[38;5;241;43m.\u001b[39;49m\u001b[43m_make_server\u001b[49m\u001b[43m(\u001b[49m\u001b[43m)\u001b[49m\n\u001b[0;32m    143\u001b[0m \u001b[38;5;28;01mreturn\u001b[39;00m \u001b[38;5;28mself\u001b[39m\u001b[38;5;241m.\u001b[39m_server\n",
      "File \u001b[1;32m~\\anaconda3\\lib\\site-packages\\dwave\\inspector\\server.py:121\u001b[0m, in \u001b[0;36mWSGIAsyncServer._make_server\u001b[1;34m(self)\u001b[0m\n\u001b[0;32m    119\u001b[0m     \u001b[38;5;28;01mimport\u001b[39;00m \u001b[38;5;21;01mdwave\u001b[39;00m\u001b[38;5;21;01m.\u001b[39;00m\u001b[38;5;21;01m_inspectorapp\u001b[39;00m \u001b[38;5;28;01mas\u001b[39;00m \u001b[38;5;21;01mwebappdata\u001b[39;00m\n\u001b[0;32m    120\u001b[0m \u001b[38;5;28;01mexcept\u001b[39;00m \u001b[38;5;167;01mImportError\u001b[39;00m:\n\u001b[1;32m--> 121\u001b[0m     \u001b[38;5;28;01mraise\u001b[39;00m \u001b[38;5;167;01mRuntimeError\u001b[39;00m(\n\u001b[0;32m    122\u001b[0m         \u001b[38;5;124m\"\u001b[39m\u001b[38;5;124mCannot use the problem inspector without a non-open-source \u001b[39m\u001b[38;5;124m\"\u001b[39m\n\u001b[0;32m    123\u001b[0m         \u001b[38;5;124m\"\u001b[39m\u001b[38;5;124m'\u001b[39m\u001b[38;5;124minspector\u001b[39m\u001b[38;5;124m'\u001b[39m\u001b[38;5;124m application component. Try running \u001b[39m\u001b[38;5;124m\"\u001b[39m\n\u001b[0;32m    124\u001b[0m         \u001b[38;5;124m\"\u001b[39m\u001b[38;5;124m'\u001b[39m\u001b[38;5;124mdwave install inspector\u001b[39m\u001b[38;5;124m'\u001b[39m\u001b[38;5;124m or consult the documentation.\u001b[39m\u001b[38;5;124m\"\u001b[39m)\n\u001b[0;32m    126\u001b[0m \u001b[38;5;28mself\u001b[39m\u001b[38;5;241m.\u001b[39mapp\u001b[38;5;241m.\u001b[39mwebappdata \u001b[38;5;241m=\u001b[39m webappdata\n\u001b[0;32m    128\u001b[0m \u001b[38;5;66;03m# create http server, and bind it to first available port >= base_port\u001b[39;00m\n",
      "\u001b[1;31mRuntimeError\u001b[0m: Cannot use the problem inspector without a non-open-source 'inspector' application component. Try running 'dwave install inspector' or consult the documentation."
     ]
    }
   ],
   "source": [
    "dwave.inspector.show(response)"
   ]
  },
  {
   "cell_type": "markdown",
   "metadata": {},
   "source": [
    "## Redraw graph with solution"
   ]
  },
  {
   "cell_type": "code",
   "execution_count": null,
   "metadata": {},
   "outputs": [],
   "source": [
    "for i,j in solution:\n",
    "    if (i,j) in graph.edges:\n",
    "        graph[i][j]['color'] = 'blue'\n",
    "    if solution[(i,j)] > 0.5 or solution[(j,i)]:\n",
    "        graph[i][j]['color'] = 'red'\n",
    "        \n",
    "edges = graph.edges()\n",
    "colors = [graph[u][v]['color'] for u,v in edges]\n",
    "weights = [graph[u][v]['weight'] for u,v in edges]\n",
    "\n",
    "# draw\n",
    "nx.draw(graph, pos, edges=edges, edge_color=colors, with_labels=True)\n",
    "labels = nx.get_edge_attributes(graph, 'weight')\n",
    "nx.draw_networkx_edge_labels(graph, pos=pos, edge_labels=labels)"
   ]
  },
  {
   "cell_type": "markdown",
   "metadata": {},
   "source": [
    "## Solve with Simulated Annealing"
   ]
  },
  {
   "cell_type": "code",
   "execution_count": null,
   "metadata": {},
   "outputs": [],
   "source": [
    "start = time.time()\n",
    "sampler1 = dimod.SimulatedAnnealingSampler()\n",
    "response1 = sampler1.sample_qubo(qubo)\n",
    "elapsed = time.time() - start\n",
    "print(\"Solved in %.2f seconds\" % elapsed)\n",
    "solution1 = response1.first.sample\n",
    "print(response1.first)"
   ]
  },
  {
   "cell_type": "code",
   "execution_count": null,
   "metadata": {},
   "outputs": [],
   "source": [
    "for i in solution1:\n",
    "    if solution1[i] > 0.5:\n",
    "        print(i)\n",
    "        \n",
    "dist = 0\n",
    "for i,j in solution1:\n",
    "    if solution1[(i,j)]>0.5:\n",
    "        dist += graph[i][j]['weight']\n",
    "        \n",
    "print(dist)"
   ]
  },
  {
   "cell_type": "markdown",
   "metadata": {},
   "source": [
    "## Redraw graph with solution"
   ]
  },
  {
   "cell_type": "code",
   "execution_count": null,
   "metadata": {},
   "outputs": [],
   "source": [
    "for i,j in solution1:\n",
    "    if (i,j) in graph.edges:\n",
    "        graph[i][j]['color'] = 'blue'\n",
    "    if solution[(i,j)] > 0.5 or solution[(j,i)]:\n",
    "        graph[i][j]['color'] = 'red'\n",
    "        \n",
    "edges = graph.edges()\n",
    "colors = [graph[u][v]['color'] for u,v in edges]\n",
    "weights = [graph[u][v]['weight'] for u,v in edges]\n",
    "\n",
    "# draw\n",
    "nx.draw(graph, pos, edges=edges, edge_color=colors, width=weights, with_labels=True)\n",
    "labels = nx.get_edge_attributes(graph, 'weight')\n",
    "nx.draw_networkx_edge_labels(graph, pos=pos, edge_labels=labels)"
   ]
  },
  {
   "cell_type": "code",
   "execution_count": null,
   "metadata": {},
   "outputs": [],
   "source": []
  }
 ],
 "metadata": {
  "kernelspec": {
   "display_name": "Python 3 (ipykernel)",
   "language": "python",
   "name": "python3"
  },
  "language_info": {
   "codemirror_mode": {
    "name": "ipython",
    "version": 3
   },
   "file_extension": ".py",
   "mimetype": "text/x-python",
   "name": "python",
   "nbconvert_exporter": "python",
   "pygments_lexer": "ipython3",
   "version": "3.9.12"
  }
 },
 "nbformat": 4,
 "nbformat_minor": 4
}
